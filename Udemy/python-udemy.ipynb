{
 "cells": [
  {
   "cell_type": "code",
   "execution_count": 2,
   "metadata": {},
   "outputs": [
    {
     "name": "stdout",
     "output_type": "stream",
     "text": [
      "y é maior que x\n"
     ]
    }
   ],
   "source": [
    "# Condições\n",
    "\n",
    "x = 1\n",
    "y = 10000000\n",
    "\n",
    "if x > y:\n",
    "    print(\"x é maior que y\")\n",
    "if y > x:\n",
    "    print(\"y é maior que x\")"
   ]
  },
  {
   "cell_type": "code",
   "execution_count": 3,
   "metadata": {},
   "outputs": [
    {
     "name": "stdout",
     "output_type": "stream",
     "text": [
      "x não é maior que y\n"
     ]
    }
   ],
   "source": [
    "# Condições\n",
    "\n",
    "x = 1\n",
    "y = 2\n",
    "\n",
    "if x > y:\n",
    "    print(\"x é maior que y\")\n",
    "else:\n",
    "    print(\"x não é maior que y\")\n"
   ]
  },
  {
   "cell_type": "code",
   "execution_count": 4,
   "metadata": {},
   "outputs": [
    {
     "name": "stdout",
     "output_type": "stream",
     "text": [
      "y é maior que x\n"
     ]
    }
   ],
   "source": [
    "# Condições\n",
    "\n",
    "x = 1\n",
    "y = 2\n",
    "\n",
    "if x == y:\n",
    "    print(\"x e y são iguais\")\n",
    "elif y > x:\n",
    "    print(\"y é maior que x\")\n",
    "else:\n",
    "    (\"x é maior que y\")"
   ]
  },
  {
   "cell_type": "code",
   "execution_count": 1,
   "metadata": {},
   "outputs": [
    {
     "name": "stdout",
     "output_type": "stream",
     "text": [
      "1\n",
      "2\n",
      "3\n",
      "4\n",
      "5\n",
      "6\n",
      "7\n",
      "8\n",
      "9\n"
     ]
    }
   ],
   "source": [
    "# Laços de Repetição\n",
    "\n",
    "x = 1\n",
    "\n",
    "while x < 10:\n",
    "    print(x)\n",
    "    x = x + 1"
   ]
  },
  {
   "cell_type": "code",
   "execution_count": 2,
   "metadata": {},
   "outputs": [
    {
     "name": "stdout",
     "output_type": "stream",
     "text": [
      "1\n",
      "2\n",
      "3\n",
      "4\n",
      "5\n"
     ]
    }
   ],
   "source": [
    "# Laços de Repetição\n",
    "\n",
    "lista1 = [1,2,3,4,5]\n",
    "lista2 = ['Olá,', 'mundo', '!']\n",
    "lista3 = [0,'biscoito', 9.99, True]\n",
    "\n",
    "for i in lista1:\n",
    "    print(i)"
   ]
  },
  {
   "cell_type": "code",
   "execution_count": 5,
   "metadata": {},
   "outputs": [
    {
     "name": "stdout",
     "output_type": "stream",
     "text": [
      "10\n",
      "12\n",
      "14\n",
      "16\n",
      "18\n"
     ]
    }
   ],
   "source": [
    "# Laços de Repetição\n",
    "\n",
    "for i in range(10,20,2):\n",
    "    print(i)"
   ]
  },
  {
   "cell_type": "code",
   "execution_count": 19,
   "metadata": {},
   "outputs": [
    {
     "name": "stdout",
     "output_type": "stream",
     "text": [
      "Matheus Felipe\n",
      "\n",
      "15\n",
      "Mathe\n",
      "a\n",
      "t\n",
      "h\n",
      "e\n",
      "matheus felipe\n",
      "\n",
      "MATHEUS FELIPE\n",
      "\n",
      "Matheus Felipe\n",
      "\n",
      "Matheus Felipe\n"
     ]
    }
   ],
   "source": [
    "# Strings\n",
    "\n",
    "a = 'Matheus '\n",
    "b = 'Felipe\\n'\n",
    "\n",
    "concatenar = a + b\n",
    "print(concatenar)\n",
    "\n",
    "tamanho = len(concatenar)\n",
    "print(tamanho)\n",
    "\n",
    "print(a[0:5])\n",
    "print(a[1])\n",
    "print(a[2])\n",
    "print(a[3])\n",
    "print(a[4])\n",
    "\n",
    "print(concatenar.lower())\n",
    "print(concatenar.upper())\n",
    "print(concatenar)\n",
    "\n",
    "print(concatenar.strip())"
   ]
  },
  {
   "cell_type": "code",
   "execution_count": 30,
   "metadata": {},
   "outputs": [
    {
     "name": "stdout",
     "output_type": "stream",
     "text": [
      "['O ', 'ato ', 'oeu a ', 'oupa do ', 'ei de Roma']\n",
      "23\n",
      "rei de Roma\n",
      "O rato roeu a roupa da rainha de Roma\n"
     ]
    }
   ],
   "source": [
    "# String\n",
    "\n",
    "minha_string = 'O rato roeu a roupa do rei de Roma'\n",
    "print(minha_string.split('r'))\n",
    "\n",
    "busca = minha_string.find('rei')\n",
    "print(busca)\n",
    "print(minha_string[busca:])\n",
    "\n",
    "print(minha_string.replace('o rei', 'a rainha'))\n"
   ]
  },
  {
   "cell_type": "code",
   "execution_count": 48,
   "metadata": {},
   "outputs": [
    {
     "name": "stdout",
     "output_type": "stream",
     "text": [
      "5 + 12 = 17\n"
     ]
    }
   ],
   "source": [
    "# Funções\n",
    "    #Moularização\n",
    "\n",
    "def soma(x, y):\n",
    "    return (x+y)\n",
    "\n",
    "def multiplicacao(x, y):\n",
    "    return(x*y)\n",
    "\n",
    "s = soma(2, 3)\n",
    "m = multiplicacao(3, 4)\n",
    "\n",
    "print (f'{s} + {m} = {s+m}')"
   ]
  },
  {
   "cell_type": "code",
   "execution_count": 58,
   "metadata": {},
   "outputs": [
    {
     "name": "stdout",
     "output_type": "stream",
     "text": [
      "Meu arquivo\n",
      "Olá mundo!\n",
      "\n"
     ]
    }
   ],
   "source": [
    "# Manipulação de Arquivos\n",
    "\n",
    "arquivo = open('arquivo.txt')\n",
    "\n",
    "#print(arquivo)\n",
    "\n",
    "#linhas = arquivo.readlines()\n",
    "\n",
    "#print(linhas)\n",
    "\n",
    "#for linha in linhas:\n",
    "#    print(linha)\n",
    "\n",
    "texto_completo = arquivo.read()\n",
    "print(texto_completo)\n",
    "\n",
    "\n"
   ]
  },
  {
   "cell_type": "code",
   "execution_count": 77,
   "metadata": {},
   "outputs": [
    {
     "name": "stdout",
     "output_type": "stream",
     "text": [
      "Arquivo 2, testando...\n",
      "\n"
     ]
    }
   ],
   "source": [
    "w = open(\"arquivo2.txt\", 'w')\n",
    "\n",
    "w.write(\"Arquivo 2, testando...\\n\")\n",
    "w.close()\n",
    "\n",
    "a = open(\"arquivo2.txt\")\n",
    "ler = a.read()\n",
    "print(ler)"
   ]
  },
  {
   "cell_type": "code",
   "execution_count": 16,
   "metadata": {},
   "outputs": [
    {
     "name": "stdout",
     "output_type": "stream",
     "text": [
      "abacate\n",
      "\n",
      "abacaxi\n",
      "melancia\n",
      "abacate\n",
      "\n",
      "\n",
      "3\n",
      "\n",
      "['abacaxi', 'melancia', 'abacate', 'limao']\n",
      "['abacaxi', 'melancia']\n",
      "\n",
      "3 esta na lista\n",
      "\n",
      "[57]\n"
     ]
    }
   ],
   "source": [
    "# Listas\n",
    "\n",
    "minha_lista_1 = ['abacaxi','melancia','abacate']\n",
    "minha_lista_2 = [1,2,3,4,5]\n",
    "minha_lista_3 = ['abacaxi',2, 9.89, False]\n",
    "minha_lista_4 = []\n",
    "\n",
    "print(f'{minha_lista_1[2]}\\n')\n",
    "\n",
    "for item in minha_lista_1:\n",
    "    print(item)\n",
    "print('\\n')\n",
    "\n",
    "tamanho = len(minha_lista_1)\n",
    "print(f'{tamanho}\\n')\n",
    "\n",
    "minha_lista_1.append('limao')\n",
    "print(minha_lista_1)\n",
    "\n",
    "del minha_lista_1[2:]\n",
    "print(minha_lista_1)\n",
    "\n",
    "if 3 in minha_lista_2:\n",
    "    print('\\n3 esta na lista\\n')\n",
    "\n",
    "\n",
    "minha_lista_4.append(57)\n",
    "print(minha_lista_4)"
   ]
  },
  {
   "cell_type": "code",
   "execution_count": 21,
   "metadata": {},
   "outputs": [
    {
     "name": "stdout",
     "output_type": "stream",
     "text": [
      "[0, 1, 4, 54, 123, 124, 432]\n",
      "[432, 124, 123, 54, 4, 1, 0]\n",
      "['abacate', 'bola', 'dinheiro']\n"
     ]
    }
   ],
   "source": [
    "# Listas ordenadas\n",
    "\n",
    "lista = [124, 432, 4, 123, 54, 0, 1]\n",
    "\n",
    "lista.sort() # altera a lista que já existe\n",
    "# lista = sorted(lista) retorna uma lista orenada\n",
    "\n",
    "print(lista)\n",
    "\n",
    "lista.sort(reverse=True)\n",
    "print(lista)\n",
    "\n",
    "lista2 = ['bola','abacate', 'dinheiro']\n",
    "\n",
    "lista2.sort() #orena por ordem alfabetica as strings\n",
    "print(lista2)\n"
   ]
  },
  {
   "cell_type": "code",
   "execution_count": 29,
   "metadata": {},
   "outputs": [
    {
     "name": "stdout",
     "output_type": "stream",
     "text": [
      "Ameixa\n",
      "\n",
      "\n",
      "A---> Ameixa\n",
      "B---> Bola\n",
      "C---> Cachorro\n",
      "\n",
      "\n",
      "('A', 'Ameixa')\n",
      "('B', 'Bola')\n",
      "('C', 'Cachorro')\n",
      "\n",
      "\n",
      "Ameixa\n",
      "Bola\n",
      "Cachorro\n",
      "\n",
      "\n",
      "A\n",
      "B\n",
      "C\n",
      "\n",
      "\n"
     ]
    }
   ],
   "source": [
    "# Dicionários - são arrays associativos. determinado valor passa a ser vinculado a uma chave\n",
    "\n",
    "meu_dicionario = {'A':'Ameixa', 'B':'Bola','C':'Cachorro'}\n",
    "\n",
    "print(meu_dicionario['A'])\n",
    "print('\\n')\n",
    "\n",
    "for chave in meu_dicionario:\n",
    "    print(chave+'---> '+meu_dicionario[chave])\n",
    "print('\\n')\n",
    "\n",
    "for i in meu_dicionario.items():\n",
    "    print(i)\n",
    "print('\\n')\n",
    "\n",
    "for i in meu_dicionario.values():\n",
    "    print(i)\n",
    "print('\\n')\n",
    "\n",
    "for i in meu_dicionario.keys():\n",
    "    print(i)\n",
    "print('\\n')\n"
   ]
  },
  {
   "cell_type": "code",
   "execution_count": 38,
   "metadata": {},
   "outputs": [
    {
     "name": "stdout",
     "output_type": "stream",
     "text": [
      "3\n",
      "\n",
      "\n",
      "23\n",
      "\n",
      "\n"
     ]
    }
   ],
   "source": [
    "# Números aleatórios\n",
    "\n",
    "import random\n",
    "\n",
    "numero = random.randint(0,10) #escolhe aleatório\n",
    "print(numero)\n",
    "print('\\n')\n",
    "\n",
    "lista = [6,23,7]\n",
    "numero = random.choice(lista) #escolhe aleatoriamente um destes numeros da 'lista'\n",
    "print(numero)\n",
    "print('\\n')"
   ]
  },
  {
   "cell_type": "code",
   "execution_count": 40,
   "metadata": {},
   "outputs": [
    {
     "name": "stdout",
     "output_type": "stream",
     "text": [
      "Não é permitida a divisão por 0\n"
     ]
    }
   ],
   "source": [
    "# Tratamento de exceções\n",
    "\n",
    "a = 2\n",
    "b = 0\n",
    "try: # Tente executar isso\n",
    "    print(a/b)\n",
    "except: # Caso não seja possível, faça isso\n",
    "    print('Não é permitida a divisão por 0')\n",
    "\n",
    "print(a/a)"
   ]
  },
  {
   "cell_type": "code",
   "execution_count": 44,
   "metadata": {},
   "outputs": [
    {
     "name": "stdout",
     "output_type": "stream",
     "text": [
      "[1, 2, 3, 4, 5]\n",
      "[1, 4, 9, 16, 25]\n",
      "[1, 3, 5]\n"
     ]
    }
   ],
   "source": [
    "# Tópicos Avançados em Python - list comprehension\n",
    "\n",
    "#x = [1,2,3,4,5]\n",
    "#y = []\n",
    "\n",
    "#for i in x:\n",
    "#    y.append(i**2)\n",
    "#\n",
    "#print(x)\n",
    "#print(y) Forma mais simples, acima\n",
    "\n",
    "x = [1,2,3,4,5]\n",
    "y = [i**2 for i in x]\n",
    "z = [i for i in x if i%2==1]\n",
    "print(x)\n",
    "print(y)\n",
    "print(z)\n",
    "\n",
    "\n"
   ]
  },
  {
   "cell_type": "code",
   "execution_count": 47,
   "metadata": {},
   "outputs": [
    {
     "name": "stdout",
     "output_type": "stream",
     "text": [
      "0 abacate\n",
      "1 bola\n",
      "2 cachorro\n"
     ]
    }
   ],
   "source": [
    "# Tópicos Avançados em Python - função enumerate\n",
    "\n",
    "lista = ['abacate','bola', 'cachorro']\n",
    "\n",
    "#for i in range(len(lista)):\n",
    "#    print(i, lista[i])  Modo mais simples, acima\n",
    "\n",
    "for i, nome in enumerate(lista):\n",
    "    print(i, nome) # Modo com função enumerate\n",
    "    "
   ]
  },
  {
   "cell_type": "code",
   "execution_count": 50,
   "metadata": {},
   "outputs": [
    {
     "name": "stdout",
     "output_type": "stream",
     "text": [
      "[2, 4, 6, 8, 10]\n"
     ]
    }
   ],
   "source": [
    "# Tópicos Avançados em Python - função map\n",
    "\n",
    "def dobro(x):\n",
    "    return x*2\n",
    "\n",
    "valor = [1,2,3,4,5]\n",
    "\n",
    "valor_dobrado = (map(dobro, valor)) # map consegue alterar valores dentro de uma lista\n",
    "\n",
    "valor_dobrado = list(valor_dobrado)\n",
    "\n",
    "print(valor_dobrado)\n",
    "\n",
    "\n"
   ]
  },
  {
   "cell_type": "code",
   "execution_count": 52,
   "metadata": {},
   "outputs": [
    {
     "name": "stdout",
     "output_type": "stream",
     "text": [
      "66\n"
     ]
    }
   ],
   "source": [
    "# Tópicos Avançados em Python - função reduce\n",
    "\n",
    "# Recebe uma lista e retorna um unico valor para a lista (soma dos valores a lista, multiplicação...)\n",
    "\n",
    "from functools import reduce\n",
    "\n",
    "def soma(x,y):\n",
    "    return x+y \n",
    "   \n",
    "lista = [1,2,3,10,20,30]\n",
    "\n",
    "soma = reduce(soma, lista)\n",
    "print(soma)\n",
    "\n"
   ]
  },
  {
   "cell_type": "code",
   "execution_count": 57,
   "metadata": {},
   "outputs": [
    {
     "name": "stdout",
     "output_type": "stream",
     "text": [
      "1 abacate R$: 2,00\n",
      "2 bola R$: 3,00\n",
      "3 cachorro Não tem preço\n",
      "4 dinheiro R$: 10,00\n",
      "5 elefante R$: 20,00\n"
     ]
    }
   ],
   "source": [
    "# Tópicos Avançados em Python - função zip\n",
    "\n",
    "# Concatena ou compacta listas em uma unica\n",
    "\n",
    "lista1 = [1,2,3,4,5]\n",
    "lista2 = ['abacate','bola', 'cachorro', 'dinheiro', 'elefante']\n",
    "lista3 = ['R$: 2,00','R$: 3,00','Não tem preço','R$: 10,00','R$: 20,00']\n",
    "for numero, nome, preco in zip(lista1, lista2, lista3):\n",
    "    print(numero, nome, preco)\n",
    "\n"
   ]
  },
  {
   "cell_type": "code",
   "execution_count": 58,
   "metadata": {},
   "outputs": [
    {
     "name": "stdout",
     "output_type": "stream",
     "text": [
      "Defaulting to user installation because normal site-packages is not writeable\n",
      "Collecting numpy\n",
      "  Downloading numpy-1.25.0-cp310-cp310-manylinux_2_17_x86_64.manylinux2014_x86_64.whl (17.6 MB)\n",
      "\u001b[2K     \u001b[90m━━━━━━━━━━━━━━━━━━━━━━━━━━━━━━━━━━━━━━━━\u001b[0m \u001b[32m17.6/17.6 MB\u001b[0m \u001b[31m20.1 MB/s\u001b[0m eta \u001b[36m0:00:00\u001b[0m00:01\u001b[0m00:01\u001b[0m\n",
      "\u001b[?25hInstalling collected packages: numpy\n",
      "Successfully installed numpy-1.25.0\n",
      "Note: you may need to restart the kernel to use updated packages.\n"
     ]
    }
   ],
   "source": [
    "pip install numpy\n"
   ]
  }
 ],
 "metadata": {
  "kernelspec": {
   "display_name": "Python 3",
   "language": "python",
   "name": "python3"
  },
  "language_info": {
   "codemirror_mode": {
    "name": "ipython",
    "version": 3
   },
   "file_extension": ".py",
   "mimetype": "text/x-python",
   "name": "python",
   "nbconvert_exporter": "python",
   "pygments_lexer": "ipython3",
   "version": "3.10.6"
  },
  "orig_nbformat": 4
 },
 "nbformat": 4,
 "nbformat_minor": 2
}
