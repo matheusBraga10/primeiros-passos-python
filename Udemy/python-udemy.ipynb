{
 "cells": [
  {
   "cell_type": "code",
   "execution_count": 2,
   "metadata": {},
   "outputs": [
    {
     "name": "stdout",
     "output_type": "stream",
     "text": [
      "y é maior que x\n"
     ]
    }
   ],
   "source": [
    "# Condições\n",
    "\n",
    "x = 1\n",
    "y = 10000000\n",
    "\n",
    "if x > y:\n",
    "    print(\"x é maior que y\")\n",
    "if y > x:\n",
    "    print(\"y é maior que x\")"
   ]
  },
  {
   "cell_type": "code",
   "execution_count": 3,
   "metadata": {},
   "outputs": [
    {
     "name": "stdout",
     "output_type": "stream",
     "text": [
      "x não é maior que y\n"
     ]
    }
   ],
   "source": [
    "# Condições\n",
    "\n",
    "x = 1\n",
    "y = 2\n",
    "\n",
    "if x > y:\n",
    "    print(\"x é maior que y\")\n",
    "else:\n",
    "    print(\"x não é maior que y\")\n"
   ]
  },
  {
   "cell_type": "code",
   "execution_count": 4,
   "metadata": {},
   "outputs": [
    {
     "name": "stdout",
     "output_type": "stream",
     "text": [
      "y é maior que x\n"
     ]
    }
   ],
   "source": [
    "# Condições\n",
    "\n",
    "x = 1\n",
    "y = 2\n",
    "\n",
    "if x == y:\n",
    "    print(\"x e y são iguais\")\n",
    "elif y > x:\n",
    "    print(\"y é maior que x\")\n",
    "else:\n",
    "    (\"x é maior que y\")"
   ]
  },
  {
   "cell_type": "code",
   "execution_count": 1,
   "metadata": {},
   "outputs": [
    {
     "name": "stdout",
     "output_type": "stream",
     "text": [
      "1\n",
      "2\n",
      "3\n",
      "4\n",
      "5\n",
      "6\n",
      "7\n",
      "8\n",
      "9\n"
     ]
    }
   ],
   "source": [
    "# Laços de Repetição\n",
    "\n",
    "x = 1\n",
    "\n",
    "while x < 10:\n",
    "    print(x)\n",
    "    x = x + 1"
   ]
  },
  {
   "cell_type": "code",
   "execution_count": 2,
   "metadata": {},
   "outputs": [
    {
     "name": "stdout",
     "output_type": "stream",
     "text": [
      "1\n",
      "2\n",
      "3\n",
      "4\n",
      "5\n"
     ]
    }
   ],
   "source": [
    "# Laços de Repetição\n",
    "\n",
    "lista1 = [1,2,3,4,5]\n",
    "lista2 = ['Olá,', 'mundo', '!']\n",
    "lista3 = [0,'biscoito', 9.99, True]\n",
    "\n",
    "for i in lista1:\n",
    "    print(i)"
   ]
  },
  {
   "cell_type": "code",
   "execution_count": 5,
   "metadata": {},
   "outputs": [
    {
     "name": "stdout",
     "output_type": "stream",
     "text": [
      "10\n",
      "12\n",
      "14\n",
      "16\n",
      "18\n"
     ]
    }
   ],
   "source": [
    "# Laços de Repetição\n",
    "\n",
    "for i in range(10,20,2):\n",
    "    print(i)"
   ]
  },
  {
   "cell_type": "code",
   "execution_count": 19,
   "metadata": {},
   "outputs": [
    {
     "name": "stdout",
     "output_type": "stream",
     "text": [
      "Matheus Felipe\n",
      "\n",
      "15\n",
      "Mathe\n",
      "a\n",
      "t\n",
      "h\n",
      "e\n",
      "matheus felipe\n",
      "\n",
      "MATHEUS FELIPE\n",
      "\n",
      "Matheus Felipe\n",
      "\n",
      "Matheus Felipe\n"
     ]
    }
   ],
   "source": [
    "# Strings\n",
    "\n",
    "a = 'Matheus '\n",
    "b = 'Felipe\\n'\n",
    "\n",
    "concatenar = a + b\n",
    "print(concatenar)\n",
    "\n",
    "tamanho = len(concatenar)\n",
    "print(tamanho)\n",
    "\n",
    "print(a[0:5])\n",
    "print(a[1])\n",
    "print(a[2])\n",
    "print(a[3])\n",
    "print(a[4])\n",
    "\n",
    "print(concatenar.lower())\n",
    "print(concatenar.upper())\n",
    "print(concatenar)\n",
    "\n",
    "print(concatenar.strip())"
   ]
  },
  {
   "cell_type": "code",
   "execution_count": 30,
   "metadata": {},
   "outputs": [
    {
     "name": "stdout",
     "output_type": "stream",
     "text": [
      "['O ', 'ato ', 'oeu a ', 'oupa do ', 'ei de Roma']\n",
      "23\n",
      "rei de Roma\n",
      "O rato roeu a roupa da rainha de Roma\n"
     ]
    }
   ],
   "source": [
    "# String\n",
    "\n",
    "minha_string = 'O rato roeu a roupa do rei de Roma'\n",
    "print(minha_string.split('r'))\n",
    "\n",
    "busca = minha_string.find('rei')\n",
    "print(busca)\n",
    "print(minha_string[busca:])\n",
    "\n",
    "print(minha_string.replace('o rei', 'a rainha'))\n"
   ]
  },
  {
   "cell_type": "code",
   "execution_count": 48,
   "metadata": {},
   "outputs": [
    {
     "name": "stdout",
     "output_type": "stream",
     "text": [
      "5 + 12 = 17\n"
     ]
    }
   ],
   "source": [
    "# Funções\n",
    "    #Moularização\n",
    "\n",
    "def soma(x, y):\n",
    "    return (x+y)\n",
    "\n",
    "def multiplicacao(x, y):\n",
    "    return(x*y)\n",
    "\n",
    "s = soma(2, 3)\n",
    "m = multiplicacao(3, 4)\n",
    "\n",
    "print (f'{s} + {m} = {s+m}')"
   ]
  },
  {
   "cell_type": "code",
   "execution_count": 58,
   "metadata": {},
   "outputs": [
    {
     "name": "stdout",
     "output_type": "stream",
     "text": [
      "Meu arquivo\n",
      "Olá mundo!\n",
      "\n"
     ]
    }
   ],
   "source": [
    "# Manipulação de Arquivos\n",
    "\n",
    "arquivo = open('arquivo.txt')\n",
    "\n",
    "#print(arquivo)\n",
    "\n",
    "#linhas = arquivo.readlines()\n",
    "\n",
    "#print(linhas)\n",
    "\n",
    "#for linha in linhas:\n",
    "#    print(linha)\n",
    "\n",
    "texto_completo = arquivo.read()\n",
    "print(texto_completo)\n",
    "\n",
    "\n"
   ]
  },
  {
   "cell_type": "code",
   "execution_count": 77,
   "metadata": {},
   "outputs": [
    {
     "name": "stdout",
     "output_type": "stream",
     "text": [
      "Arquivo 2, testando...\n",
      "\n"
     ]
    }
   ],
   "source": [
    "w = open(\"arquivo2.txt\", 'w')\n",
    "\n",
    "w.write(\"Arquivo 2, testando...\\n\")\n",
    "w.close()\n",
    "\n",
    "a = open(\"arquivo2.txt\")\n",
    "ler = a.read()\n",
    "print(ler)"
   ]
  },
  {
   "cell_type": "code",
   "execution_count": null,
   "metadata": {},
   "outputs": [],
   "source": [
    "# Listas\n",
    "\n"
   ]
  }
 ],
 "metadata": {
  "kernelspec": {
   "display_name": "Python 3",
   "language": "python",
   "name": "python3"
  },
  "language_info": {
   "codemirror_mode": {
    "name": "ipython",
    "version": 3
   },
   "file_extension": ".py",
   "mimetype": "text/x-python",
   "name": "python",
   "nbconvert_exporter": "python",
   "pygments_lexer": "ipython3",
   "version": "3.10.6"
  },
  "orig_nbformat": 4
 },
 "nbformat": 4,
 "nbformat_minor": 2
}
