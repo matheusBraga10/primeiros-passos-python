{
 "cells": [
  {
   "attachments": {},
   "cell_type": "markdown",
   "metadata": {},
   "source": [
    "### Sessão 01"
   ]
  },
  {
   "cell_type": "code",
   "execution_count": 3,
   "metadata": {},
   "outputs": [],
   "source": [
    "w = open(\"requiriments.txt\", 'w')\n",
    "\n",
    "w.write('''Nota importante sobre Python\n",
    "Para realmente aprender sobre Python, você enfrentará um desafio grande para iniciantes, sugiro a leitura abaixo para entender sobre o tema.\n",
    "\n",
    "\n",
    "\n",
    "Python é uma linguagem de alto nível, que facilita para você programar códigos complexos. Porém, seu grande \"poder\" está nas ótimas bibliotecas disponíveis.\n",
    "\n",
    "Concordamos que essas bibliotecas precisam evoluir, certo? Assim, teremos mais e mais funcionalidades que irão facilitar nossa vida todos os meses.\n",
    "\n",
    "\n",
    "\n",
    "E essa evolução das bibliotecas vem com um preço... É comum que os comandos mudem, seja por surgirem novos, ou serem substituídos ou até mesmo que a forma de usá-los se altere.\n",
    "\n",
    "\n",
    "\n",
    "Um exemplo\n",
    "\n",
    "Suponha que você use um comando numpy.sum( ) para somar um vetor de números (iremos aprender sobre isso mais a frente do curso). Pode ocorrer desse comando se tornar numpy.summation( ) no futuro, por algum motivo ou desejo do desenvolvedor do numpy.\n",
    "\n",
    "\n",
    "\n",
    "E como superamos esse problema?\n",
    "\n",
    "Quando desenvolvemos em Python, normalmente usamos o comando abaixo para guardar em um arquivo TXT a versão de todas bibliotecas que usamos (fazemos isso ao final, após desenvolver o código)\n",
    "\n",
    "pip freeze > requirements.txt\n",
    "\n",
    "Assim, futuramente, você pode saber qual foi a versão da biblioteca que você usou e instalar aquela versão, evitando erros. A lista estará no arquivo requirements.txt\n",
    "\n",
    "\n",
    "\n",
    "E como eu instalo uma versão anterior da biblioteca?\n",
    "\n",
    "Bem simples, no caso do numpy, por exemplo:\n",
    "\n",
    "pip install numpy==1.23.1\n",
    "\n",
    "Onde 1.23.1 é a versão\n",
    "\n",
    "\n",
    "\n",
    "E porque estou trazendo esse assunto para a aula?\n",
    "\n",
    "Você vai observar que alguns comandos usados na aula podem ter mudado, isso pode ocorrer de um mês para o outro.\n",
    "\n",
    "Optei por não atualizar o código apresentado nem informar a versão da biblioteca que eu usei. Pois isso precisa fazer parte do seu ciclo de aprendizado. \n",
    "\n",
    "É muito importante você conseguir fazer adaptações em códigos de outras pessoas, pois a pesquisa na internet será sua principal aliada na sua jornada, e é muito comum você encontrar códigos um pouco desatualizados por aí e precisar fazer os ajustes necessários.\n",
    "\n",
    "Mas não se preocupe, se surgir algum erro informando que um comando não existe ou está obsoleto, por favor, tente descobrir como superar isso e qual o novo comando que existe.\n",
    "\n",
    "Se mesmo assim não conseguir superar a dificuldade, pode consultar o Q&A aqui ou entrar em contato comigo.\n",
    "\n",
    "\n",
    "\n",
    "Abraços''')\n",
    "\n",
    "w.close()\n"
   ]
  },
  {
   "attachments": {},
   "cell_type": "markdown",
   "metadata": {},
   "source": [
    "### Sessão 02\n"
   ]
  },
  {
   "cell_type": "code",
   "execution_count": null,
   "metadata": {},
   "outputs": [],
   "source": []
  }
 ],
 "metadata": {
  "kernelspec": {
   "display_name": "Python 3",
   "language": "python",
   "name": "python3"
  },
  "language_info": {
   "codemirror_mode": {
    "name": "ipython",
    "version": 3
   },
   "file_extension": ".py",
   "mimetype": "text/x-python",
   "name": "python",
   "nbconvert_exporter": "python",
   "pygments_lexer": "ipython3",
   "version": "3.10.6"
  },
  "orig_nbformat": 4
 },
 "nbformat": 4,
 "nbformat_minor": 2
}
