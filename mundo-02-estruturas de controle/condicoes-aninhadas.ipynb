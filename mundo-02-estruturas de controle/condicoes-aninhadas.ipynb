{
 "cells": [
  {
   "attachments": {},
   "cell_type": "markdown",
   "metadata": {},
   "source": [
    "# Condições Aninhadas em **Python**\n",
    "## Teoria:\n",
    "1. Em condições (***if*** e ***else***) podemos ainda, adicionar mais condições, tornando mais complexas as condições com o parâmetro ***elif***.\n",
    "2. Desta forma, podemos colocar uma estrutura condicional, dentro de outra estrutura condicional.\n",
    "3. Exemplo: \n",
    "    if carro.esquerda():\n",
    "        bloco1\n",
    "    elif carro.direita():\n",
    "        bloco2\n",
    "    elif carro.re():\n",
    "        bloco3\n",
    "    else:\n",
    "        bloco4 "
   ]
  },
  {
   "cell_type": "code",
   "execution_count": 3,
   "metadata": {},
   "outputs": [
    {
     "name": "stdout",
     "output_type": "stream",
     "text": [
      "Seu nome é bem popular no Brasil\n",
      "Tenha um bom dia João\n"
     ]
    }
   ],
   "source": [
    "# Exemplo de Condição aninhada\n",
    "\n",
    "nome = str(input('Qual o seu nome?'))\n",
    "if nome == 'Matheus':\n",
    "    print('Que nome bonito!')\n",
    "elif nome == 'Ana' or nome == 'Rafael':\n",
    "    print('Seu nome também é bonito!')\n",
    "elif nome in 'Pedro Cláudio José João':\n",
    "    print('Seu nome é bem popular no Brasil')\n",
    "else:\n",
    "    print(f'Prazer, {nome}')\n",
    "print(f'Tenha um bom dia {nome}!')\n"
   ]
  },
  {
   "cell_type": "code",
   "execution_count": 3,
   "metadata": {},
   "outputs": [
    {
     "name": "stdout",
     "output_type": "stream",
     "text": [
      "Parabéns! Seu empréstimo foi aceito pelo banco. E será dividido de 120 meses, em parcelas de R$:1250.00 de uma casa, no valor total de R$:150000.00\n"
     ]
    }
   ],
   "source": [
    "# Exercício #036 - Escreva um programa para aprovar o empréstimo bancário para a compra de uma casa. O programa vai perguntar o valor da casa, o salário do comprador e em quantos anos ele vai pagar. Calcule o valor da prestação mensal, sabendo que ele não pode exceder 30% do salário ou então o empréstimo será negado.\n",
    "\n",
    "valorcasa = float(input('digite o valor de compra da casa: '))\n",
    "salario = float(input('Digite o valor do salário do aspirante a comprador da casa: '))\n",
    "tempo = int(input('Digite em qauntos meses pretende quitar o valor da casa: '))\n",
    "\n",
    "mensalidade = valorcasa/tempo\n",
    "\n",
    "if mensalidade <= 0.3*salario:\n",
    "    print(f'Parabéns! Seu empréstimo foi aceito pelo banco. E será dividido de {tempo} meses, em parcelas de R$:{mensalidade:.2f} de uma casa, no valor total de R$:{valorcasa:.2f}')\n",
    "elif mensalidade > 0.3*salario:\n",
    "    print(f'Infelizmente, sua atual condição financeira, nãp permite a aprovação do empréstimo para a compra da casa.')\n"
   ]
  },
  {
   "cell_type": "code",
   "execution_count": null,
   "metadata": {},
   "outputs": [],
   "source": [
    "# Exercício #037 - Escreva um programa que leia um número inteiro qualquer e peça para o usuário escolher qual será a base de conversão: 1. para binário 2. para octal 3. para ehexadecimal\n",
    "\n",
    "num = int(input('Digite um número qualquer:'))\n",
    "\n",
    "escolha = int(input('Digite 1. para binário 2. para octal 3. para hexadecimal: '))\n",
    "\n",
    "if escolha == 1:\n",
    "    binario = \n",
    "elif escolha == 2:\n",
    "    octal = \n",
    "elif escolha == 3:\n",
    "    hexadecimal = \n",
    "else:\n",
    "    print(f'O número {escolha}, não está entre as opções. Favor tentar novamente.')"
   ]
  },
  {
   "cell_type": "code",
   "execution_count": 4,
   "metadata": {},
   "outputs": [
    {
     "name": "stdout",
     "output_type": "stream",
     "text": [
      "O segundo valor é maior\n"
     ]
    }
   ],
   "source": [
    "# Exercício #038 - Escreva um programa que leia dois números inteiros e compare-os, mostrando na tela uma mensagem: O primeiro valor é maior ; O segundo valor é maior; Não existe valor maior, os dois são iguais.\n",
    "\n",
    "n1 = int(input('Digite o 1o número:'))\n",
    "n2 = int(input('Digite o 2o número:'))\n",
    "\n",
    "if n1 > n2:\n",
    "    print(f'O primeiro valor é maior')\n",
    "elif n1 < n2:\n",
    "    print(f'O segundo valor é maior')\n",
    "else:\n",
    "    print(f'Não existe valor maior, ambos possuem um mesmo valor')"
   ]
  },
  {
   "cell_type": "code",
   "execution_count": 16,
   "metadata": {},
   "outputs": [
    {
     "name": "stdout",
     "output_type": "stream",
     "text": [
      "Você tem 16 de idade, ainda falta 1 anos para se alistar, fique atento para não perder o prazo!\n"
     ]
    }
   ],
   "source": [
    "# Exercício #039 - Faça um programa que leia o ano de nascimento de um jovem e informe, de acordo com sua idade: - Se ele ainda vai se alistar no serviço militar; - Se é a hora de se alistar; - Se já poassou do tempo do alistamento. Seu programa também deverá mostrar o tempo que falta ou que passou do prazo.\n",
    "from datetime import date\n",
    "ano = int(input('Informe o ano seu ano de nascimento: '))\n",
    "anos = date.today().year - ano\n",
    "\n",
    "if anos < 17:\n",
    "    print(f'Você tem {anos} de idade, ainda falta {17 - anos} anos para se alistar, fique atento para não perder o prazo!')\n",
    "elif anos > 18:\n",
    "    print(f'Já passou o prazo para o alistamento, você está em atraso com o serviço {anos - 17} anos. Procure uma junta o quanto antes.')\n",
    "else:\n",
    "    print(f'Você tem {anos} de idade. É hora de se alistar, procure uma junta militar!')"
   ]
  },
  {
   "cell_type": "code",
   "execution_count": 21,
   "metadata": {},
   "outputs": [
    {
     "name": "stdout",
     "output_type": "stream",
     "text": [
      "Sua média foi de 8.5. Parabéns, você foi aprovado!\n"
     ]
    }
   ],
   "source": [
    "# Exercício #040 - Crie um programa que leia duas notas de um aluno e calcule sua média, mostrando uma mensagem no final, de acordo com a média atingida: - Média abaixo de 5.0: reprovado; - Média entre 5.0 e 6.9: Recuperação; - Média 7.0 ou superior: aprovado.\n",
    "\n",
    "nota1 = float(input('Entre com o valor da primeira nota:'))\n",
    "nota2 = float(input('Entre com o valor da segunda nota:'))\n",
    "\n",
    "media = (nota1 + nota2)/2\n",
    "\n",
    "if media < 5.0:\n",
    "    print(f'Sua média foi de {media}, abaixo de 5.0, insuficiente para a sua aprovação na matéria. Boa sorte na próxima vez!')\n",
    "elif 5.0 <= media < 6.9:\n",
    "    print(f'Sua média foi de {media}, você ficou em recuperação. Boa sorte e estude bastante!')\n",
    "else: \n",
    "    print(f'Sua média foi de {media}. Parabéns, você foi aprovado!')\n"
   ]
  },
  {
   "cell_type": "code",
   "execution_count": 25,
   "metadata": {},
   "outputs": [
    {
     "name": "stdout",
     "output_type": "stream",
     "text": [
      "O atleta tem 3 anos de idade. Sua categoria é Mirim\n"
     ]
    }
   ],
   "source": [
    "# Exercício #041 - A Confederação Nacional de Natação precisa de um programa que leia o ano de nascimento de um atleta e mostre sua categoria, de acordo com a idade: - Até 9 anos: Mirim; - Até 14 anos: Infantil; - Até 19 anos: Junior; - Até 20 anos: Sênior; - Acima: Master.\n",
    "from datetime import date\n",
    "\n",
    "ano = int(input('Entre com o ano de nascimento do atleta: '))\n",
    "\n",
    "idade = date.today().year - ano\n",
    "\n",
    "if idade <= 9:\n",
    "    print(f'O atleta tem {idade} anos de idade. Sua categoria é Mirim')\n",
    "elif 9 < idade <= 14:\n",
    "    print(f'O atleta tem {idade} anos de idade. Sua categoria é Infantil')\n",
    "elif 14 < idade <= 19:\n",
    "    print(f'O atleta tem {idade} anos de idade. Sua categoria é Júnior')\n",
    "elif 19 < idade <= 20:\n",
    "    print(f'O atleta tem {idade} anos de idade. Sua categoria é Sênior')\n",
    "else:\n",
    "    print(f'O atleta tem {idade} anos de idade. Sua categoria é Master')\n"
   ]
  },
  {
   "cell_type": "code",
   "execution_count": 30,
   "metadata": {},
   "outputs": [
    {
     "name": "stdout",
     "output_type": "stream",
     "text": [
      "As retas mensionadas não compõem um triângulo. Favor tentar novamente\n"
     ]
    }
   ],
   "source": [
    "# Exercício #042 - Refaça o desafio 035 dos triângulos, acrescentando o recurso de mostrar que tpo de triângulo será formado: - Equilaterio; - Isósceles; - Escaleno.\n",
    "\n",
    "reta1 = float(input('Informe o valor da 1a reta de um triângulo:')) \n",
    "reta2 = float(input('Informe o valor da 2a reta de um triângulo:'))\n",
    "reta3 = float(input('Informe o valor da 3a reta de um triângulo:'))\n",
    "\n",
    "if reta1 < (reta2 + reta3) and reta2 < (reta1 + reta3) and reta3 < (reta1 + reta2):\n",
    "    print(f'As retas informadas {reta1}, {reta2} e {reta3} obedecem a condição para comporem um triângulo.')\n",
    "    if reta1 == reta2 == reta3:\n",
    "        print(f'O triangulo tem 3 retas de tamanhos iguais (reta 1: {reta1}, reta 2: {reta2} e reta 3:{reta3}). Portanto, é um triangulo equilátero.')\n",
    "    elif reta1 == reta2 != reta3 or reta2 == reta1 != reta3 or reta3 == reta2 != reta1:\n",
    "        print(f'O triangulo tem 2 retas de tamanhos iguais (reta 1: {reta1}, reta 2: {reta2} e reta 3:{reta3}). Portanto, é um triangulo isósceles.')\n",
    "    elif reta1 != reta2 != reta3:\n",
    "        print(f'O triangulo tem 3 retas de tamanhos diferentes (reta 1: {reta1}, reta 2: {reta2} e reta 3:{reta3}). Portanto, é um triangulo escaleno.')\n",
    "else:\n",
    "    print('As retas mensionadas não compõem um triângulo. Favor tentar novamente')\n"
   ]
  },
  {
   "cell_type": "code",
   "execution_count": 36,
   "metadata": {},
   "outputs": [
    {
     "name": "stdout",
     "output_type": "stream",
     "text": [
      "Seu status é de 102.04081632653063, e indica obesidade morbida. Procure um medico com urgência.\n"
     ]
    }
   ],
   "source": [
    "# Exercício #043 - Desenvolva uma lógica que leia o peso e a altura de uma pessoa, calcule seu IMC e mostre seu status, de acordo com a tabela abaixo: - Abaixo de 18.5: abaixo do peso; - Entre 18.5 e 25: peso ideial; - 25 a 30: sobrepeso; - 30 a 40: Obesidade; - acima de 40: obesidade morbida\n",
    "\n",
    "peso = float(input('Entre com o seu peso (em Kg): '))\n",
    "altura = float(input('Entre com a sua altura (em metros): '))\n",
    "\n",
    "imc = peso/(altura*altura)\n",
    "\n",
    "if 18.5 > imc:\n",
    "    print(f'Seu status é de {imc}, abaixo do peso. Procure um nutricionista.')\n",
    "elif 18.5 < imc < 25:\n",
    "    print(f'Seu status é de {imc}, faixa de peso ideal. Continue assim.')\n",
    "elif 25 < imc < 30:\n",
    "    print(f'Seu status é de {imc}, sobrepeso. Procure um nutricionista.')\n",
    "elif 30 < imc < 40:\n",
    "    print(f'Seu status é de {imc}, e indica obesidade. Procure um nutricionista.')\n",
    "else:\n",
    "    print(f'Seu status é de {imc}, e indica obesidade morbida. Procure um medico com urgência.')"
   ]
  },
  {
   "cell_type": "code",
   "execution_count": 47,
   "metadata": {},
   "outputs": [
    {
     "name": "stdout",
     "output_type": "stream",
     "text": [
      "O valor do produto sairá por: R$:3.60\n"
     ]
    }
   ],
   "source": [
    "# Exercício #044 - Elabore um programa que calcule o valor a ser pago por um produto, considerando o seu preço normal e condição de pagamento: - à vista (dinheiro e cheque: desconto 10%; - à vista cartão: desconto 5%; - 2x no cartão: normal; - 3x ou mais no cartão: 20% de juros. \n",
    "\n",
    "valor = float(input('Digite um valor de um produto da loja:'))\n",
    "condicao = int(input('Digite 1 para pagar a vista no dinheiro ou cheque, 2 para pagar a vista no cartão, 3 para parcelar de 2 vezes sem juros, ou 4 para parcelar de 3 vezes ou mais:'))\n",
    "avistadinheiro = valor*0.9\n",
    "avistacartao = valor*0.95\n",
    "cartao2x = valor\n",
    "cartao3x = valor*1.2\n",
    "\n",
    "if condicao == 1:\n",
    "    print(f'O valor do produto sairá por: R$:{avistadinheiro:.2f}')\n",
    "elif condicao == 2:\n",
    "    print(f'O valor do produto sairá por: R$:{avistacartao:.2f}')\n",
    "elif condicao == 3:\n",
    "    print(f'O valor do produto sairá por: R$:{cartao2x:.2f}')\n",
    "elif condicao == 4:\n",
    "    print(f'O valor do produto sairá por: R$:{cartao3x:.2f}')\n",
    "else:\n",
    "    print('Valor informado é imcompatível com o sistema. Por favor, entre com os valores indicados de 1 a 4 para as opções acima: Digite 1 para pagar a vista no dinheiro ou cheque, 2 para pagar a vista no cartão, 3 para parcelar de 2 vezes sem juros, ou 4 para parcelar de 3 vezes ou mais')"
   ]
  },
  {
   "cell_type": "code",
   "execution_count": 66,
   "metadata": {},
   "outputs": [
    {
     "name": "stdout",
     "output_type": "stream",
     "text": [
      "Parabéns, você ganhou esta rodada. Eu escolhi 2 e você escolheu 3 Quer jogar novamente?\n"
     ]
    }
   ],
   "source": [
    "# Exercício #045 - Crie um programa que faça o computador jogar Jokenpô com você.\n",
    "from random import randint\n",
    "\n",
    "jogo = int(input('Olá! Vamos jogar uma partida de Jokenpô? aperte 1 para \"Pedra\", 2 para \"Papel\" e 3 para \"Tesoura\"'))\n",
    "\n",
    "num = randint(1,3)\n",
    "\n",
    "if num < jogo:\n",
    "    if jogo == num + 1 or jogo == num - 2:\n",
    "        print(f'Parabéns, você ganhou esta rodada. Eu escolhi {num} e você escolheu {jogo} Quer jogar novamente?')\n",
    "    elif jogo == num - 1 or jogo == num + 2:\n",
    "        print(f'Que azar, você perdeu!Eu escolhi {num} e você escolheu {jogo} Quer jogar novamente?')\n",
    "if num > jogo:\n",
    "    if jogo == num - 1 or jogo == num + 2:\n",
    "        print(f'Que azar, você perdeu!Eu escolhi {num} e você escolheu {jogo} Quer jogar novamente?')\n",
    "    elif jogo == num + 1 or jogo == num - 2:\n",
    "        print(f'Parabéns, você ganhou esta rodada. Eu escolhi {num} e você escolheu {jogo} Quer jogar novamente?')\n",
    "elif num == jogo:\n",
    "    print(f'Deu empate, tente novamente!')"
   ]
  }
 ],
 "metadata": {
  "kernelspec": {
   "display_name": "Python 3",
   "language": "python",
   "name": "python3"
  },
  "language_info": {
   "codemirror_mode": {
    "name": "ipython",
    "version": 3
   },
   "file_extension": ".py",
   "mimetype": "text/x-python",
   "name": "python",
   "nbconvert_exporter": "python",
   "pygments_lexer": "ipython3",
   "version": "3.10.6"
  },
  "orig_nbformat": 4,
  "vscode": {
   "interpreter": {
    "hash": "916dbcbb3f70747c44a77c7bcd40155683ae19c65e1c03b4aa3499c5328201f1"
   }
  }
 },
 "nbformat": 4,
 "nbformat_minor": 2
}
