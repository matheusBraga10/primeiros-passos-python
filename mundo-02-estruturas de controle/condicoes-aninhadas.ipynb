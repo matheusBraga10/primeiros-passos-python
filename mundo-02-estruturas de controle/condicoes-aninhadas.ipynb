{
 "cells": [
  {
   "attachments": {},
   "cell_type": "markdown",
   "metadata": {},
   "source": [
    "# Condições Aninhadas em **Python**\n",
    "## Teoria:\n",
    "1. Em condições (***if*** e ***else***) podemos ainda, adicionar mais condições, tornando mais complexas as condições com o parâmetro ***elif***.\n",
    "2. Desta forma, podemos colocar uma estrutura condicional, dentro de outra estrutura condicional.\n",
    "3. Exemplo: \n",
    "    if carro.esquerda():\n",
    "        bloco1\n",
    "    elif carro.direita():\n",
    "        bloco2\n",
    "    elif carro.re():\n",
    "        bloco3\n",
    "    else:\n",
    "        bloco4 "
   ]
  },
  {
   "cell_type": "code",
   "execution_count": 3,
   "metadata": {},
   "outputs": [
    {
     "name": "stdout",
     "output_type": "stream",
     "text": [
      "Seu nome é bem popular no Brasil\n",
      "Tenha um bom dia João\n"
     ]
    }
   ],
   "source": [
    "# Exemplo de Condição aninhada\n",
    "\n",
    "nome = str(input('Qual o seu nome?'))\n",
    "if nome == 'Matheus':\n",
    "    print('Que nome bonito!')\n",
    "elif nome == 'Ana' or nome == 'Rafael':\n",
    "    print('Seu nome também é bonito!')\n",
    "elif nome in 'Pedro Cláudio José João':\n",
    "    print('Seu nome é bem popular no Brasil')\n",
    "else:\n",
    "    print(f'Prazer, {nome}')\n",
    "print(f'Tenha um bom dia {nome}!')\n"
   ]
  },
  {
   "cell_type": "code",
   "execution_count": null,
   "metadata": {},
   "outputs": [],
   "source": [
    "# Exercício #036 - Escreva um programa para aprovar o empréstimo bancário para a compra de uma casa. O programa vai perguntar o valor da casa, o salário do comprador e em quantos anos ele vai pagar. Calcule o valor da prestação mensal, sabendo que ele não pode exceder 30% do salário ou então o empréstimo será negado.\n"
   ]
  },
  {
   "cell_type": "code",
   "execution_count": null,
   "metadata": {},
   "outputs": [],
   "source": [
    "# Exercício #037 - Escreva um programa que leia um número inteiro qualquer e peça para o usuário escolher qual será a base de conversão: 1. para binário 2. para octal 3. para ehexadecimal"
   ]
  },
  {
   "cell_type": "code",
   "execution_count": null,
   "metadata": {},
   "outputs": [],
   "source": [
    "# Exercício #038 - Escreva um programa que leia dois números inteiros e compare-os, mostrando na tela uma mensagem: O primeiro valor é maior ; O segundo valor é maior; Não existe valor maior, os dois são iguais."
   ]
  },
  {
   "cell_type": "code",
   "execution_count": null,
   "metadata": {},
   "outputs": [],
   "source": [
    "# Exercício #039 - Faça um programa que leia o ano de nascimento de um jovem e informe, de acordo com sua idade: - Se ele ainda vai se alistar no serviço militar; - Se é a hora de se alistar; - Se já poassou do tempo do alistamento. Seu programa também deverá mostrar o tempo que falta ou que passou do prazo."
   ]
  },
  {
   "cell_type": "code",
   "execution_count": null,
   "metadata": {},
   "outputs": [],
   "source": [
    "# Exercício #040 - Crie um programa que leia duas notas de um aluno e calcule sua média, mostrando uma mensagem no final, de acordo com a média atingida: - Média abaixo de 5.0: reprovado; - Média entre 5.0 e 6.9: Recuperação; - Média 7.0 ou superior: aprovado."
   ]
  },
  {
   "cell_type": "code",
   "execution_count": null,
   "metadata": {},
   "outputs": [],
   "source": [
    "# Exercício #041 - A Confederação Nacional de Natação precisa de um programa que leia o ano de nascimento de um atleta e mostre sua categoria, de acordo com a idade: - Até 9 anos: Mirim; - Até 14 anos: Infantil; - Até 19 anos: Junior; - Até 20 anos: Sênior; - Acima: Master."
   ]
  },
  {
   "cell_type": "code",
   "execution_count": null,
   "metadata": {},
   "outputs": [],
   "source": [
    "# Exercício #042 - Refaça o desafio 035 dos triângulos, acrescentando o recurso de mostrar que tpo de triângulo será formado: - Equilaterio; - Isósceles; - Escaleno."
   ]
  },
  {
   "cell_type": "code",
   "execution_count": null,
   "metadata": {},
   "outputs": [],
   "source": [
    "# Exercício #043 - Desenvolva uma lógica que leia o peso e a altura de uma pessoa, calcule seu IMC e mostre seu status, de acordo com a tabela abaixo: - Abaixo de 18.5: abaixo do peso; - Entre 18.5 e 25: peso ideial; - 25 a 30: sobrepeso; - 30 a 40: Obesidade; - acima de 40: obesidade morbida"
   ]
  },
  {
   "cell_type": "code",
   "execution_count": null,
   "metadata": {},
   "outputs": [],
   "source": [
    "# Exercício #044 - Elabore um programa que calcule o valor a ser pago por um produto, considerando o seu preço normal e condição de pagamento: - à vista (dinheiro e cheque: desconto 10%; - à vista cartão: desconto 5%; - 2x no cartão: normal; - 3x ou mais no cartão: 20% de juros. "
   ]
  },
  {
   "cell_type": "code",
   "execution_count": null,
   "metadata": {},
   "outputs": [],
   "source": [
    "# Exercício #045 - Crie um programa que faça o computador jogar Jokenpô com você."
   ]
  }
 ],
 "metadata": {
  "kernelspec": {
   "display_name": "Python 3",
   "language": "python",
   "name": "python3"
  },
  "language_info": {
   "codemirror_mode": {
    "name": "ipython",
    "version": 3
   },
   "file_extension": ".py",
   "mimetype": "text/x-python",
   "name": "python",
   "nbconvert_exporter": "python",
   "pygments_lexer": "ipython3",
   "version": "3.10.6"
  },
  "orig_nbformat": 4,
  "vscode": {
   "interpreter": {
    "hash": "916dbcbb3f70747c44a77c7bcd40155683ae19c65e1c03b4aa3499c5328201f1"
   }
  }
 },
 "nbformat": 4,
 "nbformat_minor": 2
}
