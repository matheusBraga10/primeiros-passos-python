{
 "cells": [
  {
   "attachments": {},
   "cell_type": "markdown",
   "metadata": {},
   "source": [
    "# Estruturas de Repetição em **Python**\n",
    "1. Laço de repetição ou iteração\n",
    "    1. Estrutura de repetição simples que cria ciclos dentro do programa\n",
    "    2. Caso o laço não tenha limites, irá ficar infinitamente trabalhando\n",
    "    3. Ex: \n",
    "        ~~~\n",
    "        laço c no intervalo(1, 10):\n",
    "            se moeda\n",
    "                pega\n",
    "            passo\n",
    "            pula\n",
    "        passo\n",
    "        pega\n",
    "\n",
    "        ~~~\n",
    "\n",
    "        ~~~\n",
    "        for c in range(1, 10):\n",
    "            if moeda:\n",
    "                pega\n",
    "            passo\n",
    "            pula\n",
    "        passo\n",
    "        pega\n",
    "        ~~~\n",
    "        1. Podemos usar estruturas aninhadas para as estruturas de repetição fazerem tarefas mais completas e automáticas.\n",
    "        "
   ]
  },
  {
   "cell_type": "code",
   "execution_count": 4,
   "metadata": {},
   "outputs": [
    {
     "name": "stdout",
     "output_type": "stream",
     "text": [
      "Oi\n",
      "Oi\n",
      "Oi\n",
      "Oi\n",
      "Oi\n",
      "Oi\n",
      "FIM\n",
      "6\n",
      "5\n",
      "4\n",
      "3\n",
      "2\n",
      "1\n"
     ]
    }
   ],
   "source": [
    "#Laço for [com estruturas aninhadas de if, elif e else]\n",
    "\n",
    "for c in range(0,6):\n",
    "    print('Oi')\n",
    "print('FIM')\n",
    "\n",
    "for c in range(6, 0, -1):\n",
    "    print(c)"
   ]
  },
  {
   "cell_type": "code",
   "execution_count": 8,
   "metadata": {},
   "outputs": [
    {
     "name": "stdout",
     "output_type": "stream",
     "text": [
      "0\n",
      "1\n",
      "2\n",
      "3\n",
      "4\n",
      "5\n",
      "6\n",
      "7\n",
      "8\n",
      "9\n",
      "10\n",
      "FIM\n"
     ]
    }
   ],
   "source": [
    "# Contador\n",
    "\n",
    "n = int(input('Digite um número: '))\n",
    "for c in range(0, n):\n",
    "    print(c)\n",
    "print('FIM')"
   ]
  },
  {
   "cell_type": "code",
   "execution_count": 9,
   "metadata": {},
   "outputs": [
    {
     "name": "stdout",
     "output_type": "stream",
     "text": [
      "2\n",
      "5\n",
      "8\n",
      "FIM\n"
     ]
    }
   ],
   "source": [
    "# Contador 2\n",
    "\n",
    "i = int(input('Inicio: '))\n",
    "f = int(input('FIM: '))\n",
    "p = int(input('Passo: '))\n",
    "\n",
    "for c in range(i, f + 1, p):\n",
    "    print(c)\n",
    "print('FIM')"
   ]
  },
  {
   "cell_type": "code",
   "execution_count": 12,
   "metadata": {},
   "outputs": [
    {
     "name": "stdout",
     "output_type": "stream",
     "text": [
      "O somatorio dos números é igual a 23\n"
     ]
    }
   ],
   "source": [
    "#Comando dentro de for se repete\n",
    "s = 0\n",
    "for c in range(0, 3):\n",
    "    n = int(input('Digite um valor: '))\n",
    "    s += n #ou s = s + n\n",
    "print(f'O somatorio dos números é igual a {s}')"
   ]
  },
  {
   "cell_type": "code",
   "execution_count": 8,
   "metadata": {},
   "outputs": [
    {
     "name": "stdout",
     "output_type": "stream",
     "text": [
      "Contagem regressiva para o ano novo!\n",
      "+=+=+=+=+=+=+=+=+=+=+=+=+=+=+=+=+=+=+=+=\n",
      "10\n",
      "9\n",
      "8\n",
      "7\n",
      "6\n",
      "5\n",
      "4\n",
      "3\n",
      "2\n",
      "1\n",
      "🎉🎉🎊🎊🎆🎆🎇🎇\n"
     ]
    }
   ],
   "source": [
    "#Desafio #046 - Faça um programa que mostre na tela uma contagem regressiva para o estouro de fogos de artificio, indo de 10 até 0, com uma pausa de 1 segundo entre eles\n",
    "\n",
    "from time import sleep\n",
    "print('Contagem regressiva para o ano novo!')\n",
    "print(20*'+=')\n",
    "for c in range(10, 0, -1):\n",
    "    print(c)\n",
    "    sleep(1)\n",
    "print(f'🎉🎉🎊🎊🎆🎆🎇🎇')"
   ]
  },
  {
   "cell_type": "code",
   "execution_count": 10,
   "metadata": {},
   "outputs": [
    {
     "name": "stdout",
     "output_type": "stream",
     "text": [
      "Estes são todos os números pares que existem dentro de 200\n",
      "0\n",
      "2\n",
      "4\n",
      "6\n",
      "8\n",
      "10\n",
      "12\n",
      "14\n",
      "16\n",
      "18\n",
      "20\n",
      "22\n",
      "24\n",
      "26\n",
      "28\n",
      "30\n",
      "32\n",
      "34\n",
      "36\n",
      "38\n",
      "40\n",
      "42\n",
      "44\n",
      "46\n",
      "48\n",
      "50\n",
      "52\n",
      "54\n",
      "56\n",
      "58\n",
      "60\n",
      "62\n",
      "64\n",
      "66\n",
      "68\n",
      "70\n",
      "72\n",
      "74\n",
      "76\n",
      "78\n",
      "80\n",
      "82\n",
      "84\n",
      "86\n",
      "88\n",
      "90\n",
      "92\n",
      "94\n",
      "96\n",
      "98\n",
      "100\n",
      "102\n",
      "104\n",
      "106\n",
      "108\n",
      "110\n",
      "112\n",
      "114\n",
      "116\n",
      "118\n",
      "120\n",
      "122\n",
      "124\n",
      "126\n",
      "128\n",
      "130\n",
      "132\n",
      "134\n",
      "136\n",
      "138\n",
      "140\n",
      "142\n",
      "144\n",
      "146\n",
      "148\n",
      "150\n",
      "152\n",
      "154\n",
      "156\n",
      "158\n",
      "160\n",
      "162\n",
      "164\n",
      "166\n",
      "168\n",
      "170\n",
      "172\n",
      "174\n",
      "176\n",
      "178\n",
      "180\n",
      "182\n",
      "184\n",
      "186\n",
      "188\n",
      "190\n",
      "192\n",
      "194\n",
      "196\n",
      "198\n",
      "FIM\n"
     ]
    }
   ],
   "source": [
    "#Desafio #047 - Crie um progroma que mostre na tela todos os numeros pares que estão no intervalo entre 1 e 50.\n",
    "\n",
    "interlavo = int(input('Digite um número: '))\n",
    "print(f'Estes são todos os números pares que existem dentro de {interlavo}')\n",
    "for c in range(0, interlavo, 2):\n",
    "    print(c)\n",
    "print('FIM')"
   ]
  },
  {
   "cell_type": "code",
   "execution_count": 132,
   "metadata": {},
   "outputs": [
    {
     "name": "stdout",
     "output_type": "stream",
     "text": [
      "O número 500 tem a soma dos seus números ímpares multiplos de três,\n",
      "igual a 20667\n"
     ]
    }
   ],
   "source": [
    "#Desafio #048 - Faça um programa que calcule a soma entre todos os numeros impares que são multiplos de tres e que se encontram no intervalo de 1 até 500.\n",
    "\n",
    "n = int(input('Digite um número: '))\n",
    "s = 0\n",
    "for c in range(0, n, 3):\n",
    "    if c % 2 == 1:\n",
    "        s += c\n",
    "print(f'O número {n} tem a soma dos seus números ímpares multiplos de três,\\nigual a {s}')\n"
   ]
  },
  {
   "cell_type": "code",
   "execution_count": null,
   "metadata": {},
   "outputs": [],
   "source": [
    "#Desafio #049 - Refaça o exercicio do desafio #009,mostrando a tabuada de um numero que o usuario escolher, só que agora utilizando um laço for.\n",
    "\n"
   ]
  },
  {
   "cell_type": "code",
   "execution_count": null,
   "metadata": {},
   "outputs": [],
   "source": [
    "#Desafio #050 - Desenvolva um programa que leia seis numeros inteiros e mostre a soma apenas daqueles que forem pares. Se o valor digitado for impar, desconsidere-o."
   ]
  },
  {
   "cell_type": "code",
   "execution_count": null,
   "metadata": {},
   "outputs": [],
   "source": [
    "#Desafio #051 - Desenvolva um programa que leia o primeiro termo e a razão de uma Progressão Aritmetica. No final, mostre os 10 primeiros termos dessa progressão."
   ]
  },
  {
   "cell_type": "code",
   "execution_count": null,
   "metadata": {},
   "outputs": [],
   "source": [
    "#Desafio #052 - Faça um programa que leia um numero inteiro e diga se ele é ou não um numero primo."
   ]
  },
  {
   "cell_type": "code",
   "execution_count": null,
   "metadata": {},
   "outputs": [],
   "source": [
    "#Desafio #053 - Crie um programa que leia uma frase qualquer e diga se ela é um palindromo, desconsiderando os espaços."
   ]
  },
  {
   "cell_type": "code",
   "execution_count": null,
   "metadata": {},
   "outputs": [],
   "source": [
    "#Desafio #054 - Crie um programa que leia o ano de nascimento de sete pessoas. No final, mostre qauntas pessoas ainda não atingiram a maioridade e qauntas já são maiores."
   ]
  },
  {
   "cell_type": "code",
   "execution_count": null,
   "metadata": {},
   "outputs": [],
   "source": [
    "#desafio #055 - Faça um programa que leia o peso de cinco pessoas. No final, mostre qual foi maior e o menor peso lidos."
   ]
  },
  {
   "cell_type": "code",
   "execution_count": null,
   "metadata": {},
   "outputs": [],
   "source": [
    "#Deseafio #056 - Desenvolva um rpograma que leia o nome, idade e sexo de 4 pessoas. No final do programa, mostre a media de idade do grupo. qual o nome do homem mais velho. quantas mulheres tem menos de 20 anos."
   ]
  }
 ],
 "metadata": {
  "kernelspec": {
   "display_name": "Python 3",
   "language": "python",
   "name": "python3"
  },
  "language_info": {
   "codemirror_mode": {
    "name": "ipython",
    "version": 3
   },
   "file_extension": ".py",
   "mimetype": "text/x-python",
   "name": "python",
   "nbconvert_exporter": "python",
   "pygments_lexer": "ipython3",
   "version": "3.10.6"
  },
  "orig_nbformat": 4
 },
 "nbformat": 4,
 "nbformat_minor": 2
}
