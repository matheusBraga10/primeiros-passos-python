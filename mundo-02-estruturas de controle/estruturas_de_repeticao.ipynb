{
 "cells": [
  {
   "attachments": {},
   "cell_type": "markdown",
   "metadata": {},
   "source": [
    "# Estruturas de Repetição em **Python**\n",
    "1. Laço de repetição ou iteração\n",
    "    1. Estrutura de repetição simples que cria ciclos dentro do programa\n",
    "    2. Caso o laço não tenha limites, irá ficar infinitamente trabalhando\n",
    "    3. Ex: \n",
    "        ~~~\n",
    "        laço c no intervalo(1, 10):\n",
    "            se moeda\n",
    "                pega\n",
    "            passo\n",
    "            pula\n",
    "        passo\n",
    "        pega\n",
    "\n",
    "        ~~~\n",
    "\n",
    "        ~~~\n",
    "        for c in range(1, 10):\n",
    "            if moeda:\n",
    "                pega\n",
    "            passo\n",
    "            pula\n",
    "        passo\n",
    "        pega\n",
    "        ~~~\n",
    "        1. Podemos usar estruturas aninhadas para as estruturas de repetição fazerem tarefas mais completas e automáticas.\n",
    "        "
   ]
  },
  {
   "cell_type": "code",
   "execution_count": 4,
   "metadata": {},
   "outputs": [
    {
     "name": "stdout",
     "output_type": "stream",
     "text": [
      "Oi\n",
      "Oi\n",
      "Oi\n",
      "Oi\n",
      "Oi\n",
      "Oi\n",
      "FIM\n",
      "6\n",
      "5\n",
      "4\n",
      "3\n",
      "2\n",
      "1\n"
     ]
    }
   ],
   "source": [
    "#Laço for [com estruturas aninhadas de if, elif e else]\n",
    "\n",
    "for c in range(0,6):\n",
    "    print('Oi')\n",
    "print('FIM')\n",
    "\n",
    "for c in range(6, 0, -1):\n",
    "    print(c)"
   ]
  },
  {
   "cell_type": "code",
   "execution_count": 8,
   "metadata": {},
   "outputs": [
    {
     "name": "stdout",
     "output_type": "stream",
     "text": [
      "0\n",
      "1\n",
      "2\n",
      "3\n",
      "4\n",
      "5\n",
      "6\n",
      "7\n",
      "8\n",
      "9\n",
      "10\n",
      "FIM\n"
     ]
    }
   ],
   "source": [
    "# Contador\n",
    "\n",
    "n = int(input('Digite um número: '))\n",
    "for c in range(0, n):\n",
    "    print(c)\n",
    "print('FIM')"
   ]
  },
  {
   "cell_type": "code",
   "execution_count": 9,
   "metadata": {},
   "outputs": [
    {
     "name": "stdout",
     "output_type": "stream",
     "text": [
      "2\n",
      "5\n",
      "8\n",
      "FIM\n"
     ]
    }
   ],
   "source": [
    "# Contador 2\n",
    "\n",
    "i = int(input('Inicio: '))\n",
    "f = int(input('FIM: '))\n",
    "p = int(input('Passo: '))\n",
    "\n",
    "for c in range(i, f + 1, p):\n",
    "    print(c)\n",
    "print('FIM')"
   ]
  },
  {
   "cell_type": "code",
   "execution_count": 12,
   "metadata": {},
   "outputs": [
    {
     "name": "stdout",
     "output_type": "stream",
     "text": [
      "O somatorio dos números é igual a 23\n"
     ]
    }
   ],
   "source": [
    "#Comando dentro de for se repete\n",
    "s = 0\n",
    "for c in range(0, 3):\n",
    "    n = int(input('Digite um valor: '))\n",
    "    s += n #ou s = s + n\n",
    "print(f'O somatorio dos números é igual a {s}')"
   ]
  },
  {
   "cell_type": "code",
   "execution_count": null,
   "metadata": {},
   "outputs": [],
   "source": [
    "#Desafio #046 - Faça um programa que mostre na tela uma contagem regressiva para o estouro de fogos de artificio, indo de 10 até 0, com uma pausa de 1 segundo entre eles"
   ]
  },
  {
   "cell_type": "code",
   "execution_count": null,
   "metadata": {},
   "outputs": [],
   "source": [
    "#Desafio #047 - Crie um progroma que mostre na tela todos os numeros pares que estão no intervalo entre 1 e 50."
   ]
  },
  {
   "cell_type": "code",
   "execution_count": null,
   "metadata": {},
   "outputs": [],
   "source": [
    "#Desafio #048 - Faça um programa que calcule a soma entre todos os numeros impares que são multiplos de tres e que se encontram no intervalo de 1 até 500."
   ]
  },
  {
   "cell_type": "code",
   "execution_count": null,
   "metadata": {},
   "outputs": [],
   "source": [
    "#Desafio #049 - Refaça o exercicio do desafio #009,mostrando a tabuada de um numero que o usuario escolher, só que agora utilizando um laço for."
   ]
  },
  {
   "cell_type": "code",
   "execution_count": null,
   "metadata": {},
   "outputs": [],
   "source": [
    "#Desafio #050 - Desenvolva um programa que leia seis numeros inteiros e mostre a soma apenas daqueles que forem pares. Se o valor digitado for impar, desconsidere-o."
   ]
  },
  {
   "cell_type": "code",
   "execution_count": null,
   "metadata": {},
   "outputs": [],
   "source": [
    "#Desafio #051 - Desenvolva um programa que leia o primeiro termo e a razão de uma Progressão Aritmetica. No final, mostre os 10 primeiros termos dessa progressão."
   ]
  },
  {
   "cell_type": "code",
   "execution_count": null,
   "metadata": {},
   "outputs": [],
   "source": [
    "#Desafio #052 - Faça um programa que leia um numero inteiro e diga se ele é ou não um numero primo."
   ]
  },
  {
   "cell_type": "code",
   "execution_count": null,
   "metadata": {},
   "outputs": [],
   "source": [
    "#Desafio #053 - Crie um programa que leia uma frase qualquer e diga se ela é um palindromo, desconsiderando os espaços."
   ]
  },
  {
   "cell_type": "code",
   "execution_count": null,
   "metadata": {},
   "outputs": [],
   "source": [
    "#Desafio #054 - Crie um programa que leia o ano de nascimento de sete pessoas. No final, mostre qauntas pessoas ainda não atingiram a maioridade e qauntas já são maiores."
   ]
  },
  {
   "cell_type": "code",
   "execution_count": null,
   "metadata": {},
   "outputs": [],
   "source": [
    "#desafio #055 - Faça um programa que leia o peso de cinco pessoas. No final, mostre qual foi maior e o menor peso lidos."
   ]
  },
  {
   "cell_type": "code",
   "execution_count": null,
   "metadata": {},
   "outputs": [],
   "source": [
    "#Deseafio #056 - Desenvolva um rpograma que leia o nome, idade e sexo de 4 pessoas. No final do programa, mostre a media de idade do grupo. qual o nome do homem mais velho. quantas mulheres tem menos de 20 anos."
   ]
  }
 ],
 "metadata": {
  "kernelspec": {
   "display_name": "Python 3",
   "language": "python",
   "name": "python3"
  },
  "language_info": {
   "codemirror_mode": {
    "name": "ipython",
    "version": 3
   },
   "file_extension": ".py",
   "mimetype": "text/x-python",
   "name": "python",
   "nbconvert_exporter": "python",
   "pygments_lexer": "ipython3",
   "version": "3.10.6"
  },
  "orig_nbformat": 4
 },
 "nbformat": 4,
 "nbformat_minor": 2
}
