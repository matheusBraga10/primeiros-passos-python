{
 "cells": [
  {
   "attachments": {},
   "cell_type": "markdown",
   "metadata": {},
   "source": [
    "Exercícios do Curso de Python 3"
   ]
  },
  {
   "cell_type": "code",
   "execution_count": 4,
   "metadata": {},
   "outputs": [
    {
     "name": "stdout",
     "output_type": "stream",
     "text": [
      "Olá, Mundo!\n",
      "11\n",
      "74\n",
      "Olá,  10\n"
     ]
    }
   ],
   "source": [
    "print('Olá, Mundo!')\n",
    "print (7+4)\n",
    "print ('7'+'4')\n",
    "print('Olá, ', 10)"
   ]
  },
  {
   "cell_type": "code",
   "execution_count": 5,
   "metadata": {},
   "outputs": [
    {
     "name": "stdout",
     "output_type": "stream",
     "text": [
      "Olá,    seja bem-vindo ao Python!\n",
      "É um grande prazer em te conhecer,    !\n"
     ]
    }
   ],
   "source": [
    "'''Crie um scrpt python, que leia o nome de uma pessoa\n",
    "e mostre a mensagem de boas-vindas de acordo com o valor digitado'''\n",
    "nome = input('Qual é o seu nome? ')\n",
    "print ('Olá, ', nome, 'seja bem-vindo ao Python!' )\n",
    "print('É um grande prazer em te conhecer, ', nome, '!')"
   ]
  },
  {
   "cell_type": "code",
   "execution_count": 6,
   "metadata": {},
   "outputs": [
    {
     "name": "stdout",
     "output_type": "stream",
     "text": [
      "Você nasceu em:    /   /  \n",
      "Você nasceu no dia    de    de   . Correto?\n"
     ]
    }
   ],
   "source": [
    "'''Crie um script Python que leia o mês do ano de nascimento de uma\n",
    "pessoa e mostre uma mensagem com a data formatada'''\n",
    "ano = input('Qual ano você nasceu? ')\n",
    "mes = input('Qual mês você nasceu?? ')\n",
    "dia = input('Que dia você nasceu? ')\n",
    "print ('Você nasceu em: ', dia,'/', mes,'/', ano)\n",
    "print ('Você nasceu no dia ', dia, 'de ', mes, 'de' , ano, '. Correto?')"
   ]
  },
  {
   "cell_type": "code",
   "execution_count": 7,
   "metadata": {},
   "outputs": [
    {
     "ename": "ValueError",
     "evalue": "invalid literal for int() with base 10: ' '",
     "output_type": "error",
     "traceback": [
      "\u001b[1;31m---------------------------------------------------------------------------\u001b[0m",
      "\u001b[1;31mValueError\u001b[0m                                Traceback (most recent call last)",
      "Cell \u001b[1;32mIn[7], line 2\u001b[0m\n\u001b[0;32m      1\u001b[0m \u001b[39m'''Crie um script Python que leia dois numeros e tente mostrar a soma entre eles'''\u001b[39;00m\n\u001b[1;32m----> 2\u001b[0m num1 \u001b[39m=\u001b[39m \u001b[39mint\u001b[39;49m(\u001b[39minput\u001b[39;49m(\u001b[39m'\u001b[39;49m\u001b[39mDigite o primero numero da soma desejeda: \u001b[39;49m\u001b[39m'\u001b[39;49m))\n\u001b[0;32m      3\u001b[0m num2 \u001b[39m=\u001b[39m \u001b[39mint\u001b[39m(\u001b[39minput\u001b[39m(\u001b[39m'\u001b[39m\u001b[39mDigite o segundo numero da soma desejeda: \u001b[39m\u001b[39m'\u001b[39m))\n\u001b[0;32m      4\u001b[0m \u001b[39m# int(input) 'diz' para o input que o caractere a ser digitado pelo usuário será um número inteiro\u001b[39;00m\n",
      "\u001b[1;31mValueError\u001b[0m: invalid literal for int() with base 10: ' '"
     ]
    }
   ],
   "source": [
    "'''Crie um script Python que leia dois numeros e tente mostrar a soma entre eles'''\n",
    "num1 = int(input('Digite o primero numero da soma desejeda: '))\n",
    "num2 = int(input('Digite o segundo numero da soma desejeda: '))\n",
    "# int(input) 'diz' para o input que o caractere a ser digitado pelo usuário será um número inteiro\n",
    "num3 = (num1 + num2)\n",
    "print(num1, '+', num2, '= ', num3)"
   ]
  },
  {
   "cell_type": "code",
   "execution_count": null,
   "metadata": {},
   "outputs": [
    {
     "name": "stdout",
     "output_type": "stream",
     "text": [
      "Olá, Mundo!\n",
      "Hello, Word!\n"
     ]
    }
   ],
   "source": [
    "#Lista de exercícios Python #001 - Deixando tudo pronto\n",
    "print('Olá, Mundo!')\n",
    "msg = 'Hello, Word!'\n",
    "print(msg)"
   ]
  },
  {
   "cell_type": "code",
   "execution_count": null,
   "metadata": {},
   "outputs": [
    {
     "name": "stdout",
     "output_type": "stream",
     "text": [
      "Olá, Matheus Felipe. Seja bem-vindo ao mundo Python!\n"
     ]
    }
   ],
   "source": [
    "#Lista de exercícios Python #002 - Respondendo ao usuário\n",
    "nome = input('Qual o seu nome? ')\n",
    "print(f'Olá, {nome}. Seja bem-vindo ao mundo Python!')"
   ]
  },
  {
   "attachments": {},
   "cell_type": "markdown",
   "metadata": {},
   "source": [
    "Tipos Primitivos e Saída de Dados - Python"
   ]
  },
  {
   "cell_type": "code",
   "execution_count": null,
   "metadata": {},
   "outputs": [
    {
     "name": "stdout",
     "output_type": "stream",
     "text": [
      "A soma entre 6 e 5 vale 11\n"
     ]
    }
   ],
   "source": [
    "# Str = caracteres (letras, frases, textos) \n",
    "# int = números inteiros (4, -7, 0, 15679)\n",
    "# float = números não inteiros (4.5, 0.0000458, -15.223, 7.0)\n",
    "# bool = Booleano (true, False)\n",
    "'''Por padrão, o input interpreta Strings\n",
    "Porém, se dermos int(input) o mesmo interpretará\n",
    "números inteiros'''\n",
    "#------------------------------------------------\n",
    "a = int(input('Digite um número'))\n",
    "b = int(input('Digite mais um número'))\n",
    "\n",
    "c = a + b\n",
    "\n",
    "print(f'A soma entre {a} e {b} vale {c}')"
   ]
  },
  {
   "cell_type": "code",
   "execution_count": null,
   "metadata": {},
   "outputs": [
    {
     "name": "stdout",
     "output_type": "stream",
     "text": [
      "<class 'str'>\n",
      "<class 'int'>\n"
     ]
    }
   ],
   "source": [
    "n1 = input('Digite um valor: ')\n",
    "print(type(n1))\n",
    "\n",
    "n2 = int(input('Digite um valor: '))\n",
    "print(type(n2))"
   ]
  },
  {
   "cell_type": "code",
   "execution_count": null,
   "metadata": {},
   "outputs": [
    {
     "name": "stdout",
     "output_type": "stream",
     "text": [
      "1.0\n",
      "<class 'str'>\n",
      "3\n",
      "True\n",
      "False\n"
     ]
    }
   ],
   "source": [
    "n = float(input('Digite um valor: '))\n",
    "print(n)\n",
    "n = (input('Digite um valor: '))\n",
    "print(type(n))\n",
    "n = int(input('Digite um valor: '))\n",
    "print(n)\n",
    "n = bool(input('Digite um valor: '))\n",
    "print(n)\n"
   ]
  },
  {
   "cell_type": "code",
   "execution_count": null,
   "metadata": {},
   "outputs": [
    {
     "name": "stdout",
     "output_type": "stream",
     "text": [
      "True\n",
      "False\n",
      "True\n"
     ]
    }
   ],
   "source": [
    "# Os métodos de teste de tipo is... tem muita variedade\n",
    "n = (input('Digite um valor: '))\n",
    "print(n.isnumeric())\n",
    "\n",
    "n = (input('Digite um valor: '))\n",
    "print(n.isalpha())\n",
    "\n",
    "n = (input('Digite um valor: '))\n",
    "print(n.isalnum())"
   ]
  },
  {
   "cell_type": "code",
   "execution_count": null,
   "metadata": {},
   "outputs": [
    {
     "name": "stdout",
     "output_type": "stream",
     "text": [
      "A soma entre os números 5.6561 e 9.6548 é 15.3109\n"
     ]
    }
   ],
   "source": [
    "num1 = float(input('Digite um número: '))\n",
    "num2 = float(input('Digite outro número para ser somado ao primeiro: '))\n",
    "\n",
    "resp = num1 +  num2\n",
    "\n",
    "print(f'A soma entre os números {num1} e {num2} é {resp}')"
   ]
  },
  {
   "cell_type": "code",
   "execution_count": null,
   "metadata": {},
   "outputs": [
    {
     "name": "stdout",
     "output_type": "stream",
     "text": [
      "<class 'str'>\n",
      "3a é um número?  False\n",
      "3a é um texto?  False\n",
      "3a é um texto com números?  True\n"
     ]
    }
   ],
   "source": [
    "n = input('Digite algo: ')\n",
    "print(type(n))\n",
    "print(f'{n} é um número? ', n.isnumeric())\n",
    "print(f'{n} é um texto? ', n.isalpha())\n",
    "print(f'{n} é um texto com números? ', n.isalnum())"
   ]
  },
  {
   "cell_type": "code",
   "execution_count": null,
   "metadata": {},
   "outputs": [
    {
     "name": "stdout",
     "output_type": "stream",
     "text": [
      "A soma entre 6 e 5 é igual a 11\n"
     ]
    }
   ],
   "source": [
    "#Exercício Python #003 - Somando dois números\n",
    "#--------------------------------------------\n",
    "num1 = int(input('Digite um número a ser somado: '))\n",
    "num2 = int(input('Digite um número a ser somado: '))\n",
    "\n",
    "num3 = num1 + num2 \n",
    "\n",
    "print(f'A soma entre {num1} e {num2} é igual a {num3}')\n",
    "\n"
   ]
  },
  {
   "cell_type": "code",
   "execution_count": null,
   "metadata": {},
   "outputs": [
    {
     "name": "stdout",
     "output_type": "stream",
     "text": [
      "O tipo primitivo deste valor é  <class 'str'>\n",
      "Só tem espaços?  False\n",
      "Só tem numeros?  False\n",
      "Só possui letras?  False\n",
      "É alfanumperico?  False\n",
      "Está em maiusculas?  False\n",
      "Está em minusculas?  False\n",
      "Está capitalizada?  True\n"
     ]
    }
   ],
   "source": [
    "#Exercício Python #004 - Dissecando uma variável\n",
    "#---------------------------------------------\n",
    "n = input('Digite Algo: ')\n",
    "print('O tipo primitivo deste valor é ', type(n))\n",
    "print('Só tem espaços? ', n.isspace())\n",
    "print('Só tem numeros? ', n.isnumeric())\n",
    "print('Só possui letras? ', n.isalpha())\n",
    "print('É alfanumperico? ', n.isalnum())\n",
    "print('Está em maiusculas? ', n.isupper())\n",
    "print('Está em minusculas? ', n.islower())\n",
    "print('Está capitalizada? ', n.istitle())"
   ]
  },
  {
   "attachments": {},
   "cell_type": "markdown",
   "metadata": {},
   "source": [
    "Operações Aritméticas\n",
    "\n",
    "    + Adição 5 + 2 == 7              \n",
    "    - Subtração 5 - 2 == 3             \n",
    "    / Divisão 5 / 2 == 2.5\n",
    "    * Multiplicação 5 * 2 == 10         \n",
    "    ** Potência 5 ** 2 == 25\n",
    "    // Divisão Inteira 5 // 2 == 2\n",
    "    % Resto da Divisão 5 % 2 == 1\n",
    "\n",
    "    Assim como na matemática, a ordem de procedência se inicia com \n",
    "    1. ()\n",
    "    2. **\n",
    "    3. *, /, //, %\n",
    "    4. +, -\n",
    "\n"
   ]
  },
  {
   "cell_type": "code",
   "execution_count": null,
   "metadata": {},
   "outputs": [
    {
     "name": "stdout",
     "output_type": "stream",
     "text": [
      "11\n",
      "31\n",
      "243\n"
     ]
    }
   ],
   "source": [
    "print(5+3*2) #Vide, ordem de procedência acima\n",
    "print(3*5+4**2)\n",
    "print(3*(5+4)**2)"
   ]
  },
  {
   "cell_type": "code",
   "execution_count": 10,
   "metadata": {},
   "outputs": [
    {
     "name": "stdout",
     "output_type": "stream",
     "text": [
      "9.0\n",
      "5.0\n"
     ]
    }
   ],
   "source": [
    "#Raiz quadrada é a fração de uma potência\n",
    "print(81**(1/2))\n",
    "print(125**(1/3))"
   ]
  },
  {
   "cell_type": "code",
   "execution_count": 12,
   "metadata": {},
   "outputs": [
    {
     "name": "stdout",
     "output_type": "stream",
     "text": [
      "OiOiOiOiOiOiOi\n"
     ]
    }
   ],
   "source": [
    "# O python tambem atende alguns parametros matemáticos, para o ambiente de strings\n",
    "\n",
    "print('Oi'*7)"
   ]
  },
  {
   "cell_type": "code",
   "execution_count": 15,
   "metadata": {},
   "outputs": [
    {
     "name": "stdout",
     "output_type": "stream",
     "text": [
      "Oi,              Matheus, muito prazer!\n",
      "Oi, Matheus             , muito prazer!\n",
      "Oi,       Matheus       , muito prazer!\n",
      "Oi, ======Matheus=======, muito prazer!\n"
     ]
    }
   ],
   "source": [
    "# É muito interessante como o Python e outras linguagens interagem strings com operadores atitméticos\n",
    "\n",
    "nome = input('Qual o seu nome: ')\n",
    "print(f'Oi, {nome:>20}, muito prazer!')\n",
    "print(f'Oi, {nome:<20}, muito prazer!')\n",
    "print(f'Oi, {nome:^20}, muito prazer!')\n",
    "print(f'Oi, {nome:=^20}, muito prazer!')"
   ]
  },
  {
   "cell_type": "code",
   "execution_count": 22,
   "metadata": {},
   "outputs": [
    {
     "name": "stdout",
     "output_type": "stream",
     "text": [
      "A soma é 14 \n",
      " A subtração é -4\n",
      " O produto é 45\n",
      " A divisão é 0.556\n",
      " A potência é 1953125\n",
      " A divisão inteira é 0\n",
      " O resto da divisão é 5.\n"
     ]
    }
   ],
   "source": [
    "n1 = int(input('Digite um número: '))\n",
    "n2 = int(input('Digite outro número: '))\n",
    "\n",
    "soma = n1 + n2\n",
    "subtracao = n1 - n2\n",
    "multiplicacao = n1 * n2\n",
    "divisao = n1 / n2\n",
    "potencia = n1 ** n2\n",
    "divInt = n1 // n2\n",
    "resDiv = n1 % n2\n",
    "\n",
    "print(f'A soma é {soma} \\n A subtração é {subtracao}\\n O produto é {multiplicacao}\\n A divisão é {divisao:.3f}\\n A potência é {potencia}\\n A divisão inteira é {divInt}\\n O resto da divisão é {resDiv}.')\n",
    "# As teclas \\n são usadas para quebra de linha"
   ]
  },
  {
   "cell_type": "code",
   "execution_count": 1,
   "metadata": {},
   "outputs": [
    {
     "name": "stdout",
     "output_type": "stream",
     "text": [
      "O sucessor e o antecessor de 5 são, respectivamente: \n",
      " 6 e 4.\n"
     ]
    }
   ],
   "source": [
    "# Desafio #005 - Faça um programa que leia um numero inteiro e mostre na tela o seu secessor e seu antecessor\n",
    "n = int(input('Digite um número inteiro: '))\n",
    "print(f'O sucessor e o antecessor de {n} são, respectivamente: \\n {n+1} e {n-1}.')"
   ]
  },
  {
   "cell_type": "code",
   "execution_count": 28,
   "metadata": {},
   "outputs": [
    {
     "name": "stdout",
     "output_type": "stream",
     "text": [
      "O número 5.3, tem seus seguintes resultados para as operações: \n",
      " 10.6 para seu dobro; \n",
      " 15.900 para seu triplo; \n",
      " 2.302 para sua raíz quadrada.\n"
     ]
    }
   ],
   "source": [
    "# Desafio #006 - Crie um algoritmo que leia um número e mostre o seu dobro,triplo e raiz quadrada.\n",
    "n = float(input('Digite um número: '))\n",
    "print(f'O número {n}, tem seus seguintes resultados para as operações: \\n {n*2} para seu dobro; \\n {n*3:.3f} para seu triplo; \\n {n**(1/2):.3f} para sua raíz quadrada.')"
   ]
  },
  {
   "cell_type": "code",
   "execution_count": 2,
   "metadata": {},
   "outputs": [
    {
     "name": "stdout",
     "output_type": "stream",
     "text": [
      "O valor da média final foi de: 82.5%. \n",
      "\n",
      " História: 66.0 \n",
      " Matemática: 77.0 \n",
      " Portugês: 88.0 \n",
      " Geografia: 99.0\n"
     ]
    }
   ],
   "source": [
    "# Desafio #007 - Desenvolva um programa que leia as duas notas de um aluno, calcule e mostre a sua média.\n",
    "n1 = float(input('Digite o valor de sua nota de história: '))\n",
    "n2 = float(input('Digite o valor de sua nota de matemática: '))\n",
    "n3 = float(input('Digite o valor de sua nota de portugues: '))\n",
    "n4 = float(input('Digite o valor de sua nota de geografia: '))\n",
    "media = (n1 + n2 + n3 + n4)/4\n",
    "print(f'O valor da média final foi de: {media:.1f}%. \\n\\n História: {n1} \\n Matemática: {n2} \\n Portugês: {n3} \\n Geografia: {n4}')"
   ]
  },
  {
   "cell_type": "code",
   "execution_count": 3,
   "metadata": {},
   "outputs": [
    {
     "name": "stdout",
     "output_type": "stream",
     "text": [
      "Você mede 1740 milímetros, ou 174 centímetros, ou 1.74 metros.\n"
     ]
    }
   ],
   "source": [
    "# Desafio #008 - Escreva um programa que leia o valor em metros e o exiba convertido em centimetros e milimetros.\n",
    "m = float(input('Digite a sua altura: '))\n",
    "\n",
    "cm = 100*m\n",
    "mm = 1000*m\n",
    "\n",
    "print(f'Você mede {mm:.0f} milímetros, ou {cm:.0f} centímetros, ou {m} metros.')"
   ]
  },
  {
   "cell_type": "code",
   "execution_count": 3,
   "metadata": {},
   "outputs": [
    {
     "name": "stdout",
     "output_type": "stream",
     "text": [
      "------------\n",
      "12 *  1 = 12\n",
      "12 *  2 = 24\n",
      "12 *  3 = 36\n",
      "12 *  4 = 48\n",
      "12 *  5 = 60\n",
      "12 *  6 = 72\n",
      "12 *  7 = 84\n",
      "12 *  8 = 96\n",
      "12 *  9 = 108\n",
      "12 * 10 = 120\n",
      "------------\n"
     ]
    }
   ],
   "source": [
    "#Desafio #009 - Faça um programa que leia um número inteiro qualquer e mostre sua tabuada na tela\n",
    "n = int(input('Digite um número inteiro qualquer: '))\n",
    "print('-'*12)\n",
    "print(f'{n} * {1:2} = {n*1}')\n",
    "print(f'{n} * {2:2} = {n*2}')\n",
    "print(f'{n} * {3:2} = {n*3}')\n",
    "print(f'{n} * {4:2} = {n*4}')\n",
    "print(f'{n} * {5:2} = {n*5}')\n",
    "print(f'{n} * {6:2} = {n*6}')\n",
    "print(f'{n} * {7:2} = {n*7}')\n",
    "print(f'{n} * {8:2} = {n*8}')\n",
    "print(f'{n} * {9:2} = {n*9}')\n",
    "print(f'{n} * {10:2} = {n*10}')\n",
    "print('-'*12)"
   ]
  },
  {
   "cell_type": "code",
   "execution_count": 36,
   "metadata": {},
   "outputs": [
    {
     "name": "stdout",
     "output_type": "stream",
     "text": [
      "Seu total de R$: 5624.00, dá para ser trocado por um total de US$: 1719.88\n"
     ]
    }
   ],
   "source": [
    "#Desafio #010 - Crie um programa que leia quanto dinheiro uma pessoa tem na carteira e mostre quantos dólares ela pode comprar. Consiere US$1,00 = R$3,27.\n",
    "rs = float(input('Digite quantos reais você tem na carteira: '))\n",
    "uss = rs/3.27\n",
    "\n",
    "print(f'Seu total de R$: {rs:.2f}, dá para ser trocado por um total de US$: {uss:.2f}' )"
   ]
  },
  {
   "cell_type": "code",
   "execution_count": 4,
   "metadata": {},
   "outputs": [
    {
     "name": "stdout",
     "output_type": "stream",
     "text": [
      "Sua parede tem uma área de 50.0m². Para pintar essa parede, precisaremos de 25.0 Litros de tinta.\n"
     ]
    }
   ],
   "source": [
    "#Desafio #011 - Faça um programa que leia a largura e a altura de uma parede em metros, calcule a sua área e a quantidade de tinta necessária para pintá-las, sabendo que cada litro de tinta, pinta uma área de 2m²\n",
    "\n",
    "l = float(input('Entre com a largura em metros, da parede a ser pintada: '))\n",
    "a = float(input('Entre com a altura em metros, da parede a ser pintada: '))\n",
    "tinta = (a*l)/2\n",
    "\n",
    "print(f'Sua parede tem uma área de {l*a}m². Para pintar essa parede, precisaremos de {tinta} Litros de tinta.')"
   ]
  },
  {
   "cell_type": "code",
   "execution_count": 6,
   "metadata": {},
   "outputs": [
    {
     "name": "stdout",
     "output_type": "stream",
     "text": [
      "O novo preço do produto 927.23 do valor orginal de R$: 927.23, é de R$: 880.87 com o desconto de 5%\n"
     ]
    }
   ],
   "source": [
    "#Desafio #012 - Faça um algoritmo que leia o preço de um produto e mostre seu novo preço, com 5% de desnconto.\n",
    "a = input('Digite o nome do protudo que receberá o desconto: ')\n",
    "p = float(input('Entre com o preço orginal do produto que será colocado em promoção: '))\n",
    "d = p*0.95\n",
    "\n",
    "print(f'O novo preço do produto {a} do valor orginal de R$: {p:.2f}, é de R$: {d:.2f} com o desconto de 5%')"
   ]
  },
  {
   "cell_type": "code",
   "execution_count": 1,
   "metadata": {},
   "outputs": [
    {
     "name": "stdout",
     "output_type": "stream",
     "text": [
      "O seu novo salário é de R$: 3450.00 e teve um acréssimo de 15%. Parabéns pelo aumento!\n"
     ]
    }
   ],
   "source": [
    "#desafio #013 - Faça um algoritmo que leia um salário de um  funcionário e mostre seu novo salário, com 15% de aumento\n",
    "aSal = float(input('Digite o seu salário atual: '))\n",
    "nSal = aSal*1.15\n",
    "print(f'O seu novo salário é de R$: {nSal:.2f} e teve um acréssimo de 15%. Parabéns pelo aumento!' )"
   ]
  },
  {
   "cell_type": "code",
   "execution_count": 9,
   "metadata": {},
   "outputs": [
    {
     "name": "stdout",
     "output_type": "stream",
     "text": [
      "A temperatura de 40.0°C(celcius) equivale a 313.0K(kelvin) ou 104.0°F(fahrenheit)\n"
     ]
    }
   ],
   "source": [
    "#Desafio #014 - Faça um algoritmo que converta unidades de temperaturas\n",
    "c = float(input('Entre com a temperatura em °C: '))\n",
    "k = c + 273\n",
    "f = c*1.8 + 32\n",
    "\n",
    "print(f'A temperatura de {c:.1f}°C(celcius) equivale a {k:.1f}K(kelvin) ou {f:.1f}°F(fahrenheit)')"
   ]
  },
  {
   "cell_type": "code",
   "execution_count": 11,
   "metadata": {},
   "outputs": [
    {
     "name": "stdout",
     "output_type": "stream",
     "text": [
      "O valor total a ser pago pelo aluguel do carro foi de R$:232.50 \n",
      "O veículo ficou alugado por 3 dias e percorreu 350km\n"
     ]
    }
   ],
   "source": [
    "#Desafio #015 - Faça um algoritmo que pergunte a quantidade de quilômetros percorridos por um carro alugado e a quantidade de dias pelos quais ele foi alugado. Calcule o preço a pagar, sabendo que o carro custa R$:60.00 o dia e R$:0.15 por km rodado\n",
    "dias = int(input('Digite o numero de dias que o carro foi alugado: '))\n",
    "kmRodados = int(input('Digite o quanto o carro percorreu, durante o periodo de aluguel: '))\n",
    "\n",
    "custo = dias*60 + kmRodados*0.15\n",
    "\n",
    "print(f'O valor total a ser pago pelo aluguel do carro foi de R$:{custo:.2f} \\nO veículo ficou alugado por {dias} dias e percorreu {kmRodados}km')"
   ]
  }
 ],
 "metadata": {
  "kernelspec": {
   "display_name": "Python 3",
   "language": "python",
   "name": "python3"
  },
  "language_info": {
   "codemirror_mode": {
    "name": "ipython",
    "version": 3
   },
   "file_extension": ".py",
   "mimetype": "text/x-python",
   "name": "python",
   "nbconvert_exporter": "python",
   "pygments_lexer": "ipython3",
   "version": "3.10.12"
  },
  "orig_nbformat": 4,
  "vscode": {
   "interpreter": {
    "hash": "31f2aee4e71d21fbe5cf8b01ff0e069b9275f58929596ceb00d14d90e3e16cd6"
   }
  }
 },
 "nbformat": 4,
 "nbformat_minor": 2
}
