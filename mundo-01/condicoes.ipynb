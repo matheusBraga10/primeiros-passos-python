{
 "cells": [
  {
   "attachments": {},
   "cell_type": "markdown",
   "metadata": {},
   "source": [
    "# Condições em **Python**\n",
    "## Teoria:\n",
    "1. Sequencia de comandos lógicos com o intuito de se chegar a um objetivo, por meio de uma *Estrutua Sequencial*\n",
    "    1. A *Estrutura Sequencial* é feita em uma sequencia de cima para baixo\n",
    "    2. Em *Condições*, dentro de Python, podem ter diferentes posssibilidades para um mesmo objetivo, partindo de uma escolha a ser feita e outra a não ser feita (dadas as condições impostas dependendo das respostas ao longo do percurso da resolução do objetivo)\n",
    "        1. Dentro das condições, serão criados *Blocos de Comandos* que serão reservados e utilizados conforme o uso. **Nunca serão executados 2 blocos da condição, somente 1 dos blocos será executado\n",
    "        2. As condições serão representadas por **if** e **else** (se e senão) que alternará os *Blocos de Comandos*\n",
    "        3. Em Python os *Blocos de Comandos* recebem identação para conterem seus elementos dentro das condições\n",
    "    3. Exemplo:\n",
    "        if carro.esquerda():\n",
    "            bloco True\n",
    "        else:\n",
    "            bloco False\n",
    "\n"
   ]
  },
  {
   "cell_type": "code",
   "execution_count": 2,
   "metadata": {},
   "outputs": [
    {
     "name": "stdout",
     "output_type": "stream",
     "text": [
      "Seu carro é velho\n",
      "---FIM---\n",
      "Seu carro é novo\n",
      "---FIM---\n"
     ]
    }
   ],
   "source": [
    "# Exemplo de condição simples\n",
    "tempo1 = int(input('Quantos anos tem seu carro? '))\n",
    "if tempo <=3:\n",
    "    print('Seu carro é novo')\n",
    "else:\n",
    "    print('Seu carro é velho')\n",
    "    print('---FIM---')\n",
    "# Exemplo de condição simples simplificada\n",
    "tempo2 = int(input('Quantos anos tem seu carro? '))\n",
    "print('Seu carro é novo'if tempo<=3 else'Seu carro é velho')\n",
    "print('---FIM---')\n"
   ]
  },
  {
   "cell_type": "code",
   "execution_count": 4,
   "metadata": {},
   "outputs": [
    {
     "name": "stdout",
     "output_type": "stream",
     "text": [
      "Seu nome é tão normal!\n",
      "Bom dia, Gustavo!\n"
     ]
    }
   ],
   "source": [
    "#Condição Simples\n",
    "nome = str(input('Qual é seu nome?'))\n",
    "if nome == 'Matheus':\n",
    "    print('Que nome lindo você tem!')\n",
    "print(f'Bom dia, {nome}!')"
   ]
  },
  {
   "cell_type": "code",
   "execution_count": 6,
   "metadata": {},
   "outputs": [
    {
     "name": "stdout",
     "output_type": "stream",
     "text": [
      "A sua média foi 5.5\n",
      "Que pena, tente fazer melhor da próxima\n"
     ]
    }
   ],
   "source": [
    "#Condição Composta\n",
    "n1 = float(input('Digite sua nota: '))\n",
    "n2 = float(input('Digite sua nota: '))\n",
    "m = (n1 +n2)/2\n",
    "print(f'A sua média foi {m:.1f}')\n",
    "if m >= 6.0:\n",
    "    print('Parabéns, sua média foi boa!')\n",
    "else:\n",
    "    print('Que pena, tente fazer melhor da próxima')\n"
   ]
  },
  {
   "cell_type": "code",
   "execution_count": 29,
   "metadata": {},
   "outputs": [
    {
     "name": "stdout",
     "output_type": "stream",
     "text": [
      "Processando...\n",
      "\u001b[1;31mQue pena! O número era 4 e você escolheu 3. Vamos jogar novamente?\u001b[0;0;0m\n",
      "\u001b[7;40m---FIM DE JOGO---\n"
     ]
    }
   ],
   "source": [
    "# Exercício #028 - Escreva um programa que faça o computador 'pensar' em um número inteiro entre 0 e 5 e peça para o usuário tentar descobrir qual foi o número escolhido pelo computador. O programa deverá escrever na tela se o usuário perdeu ou ganhou. \n",
    "\n",
    "from random import randint\n",
    "from time import sleep\n",
    "num1 = randint(0, 5)\n",
    "palpite = int(input('Olá! O computador pensou em um número de 0 a 5. Tente adivinhar! Qual o seu palpite? '))\n",
    "print('Processando...')\n",
    "sleep(3)\n",
    "if palpite == num1:\n",
    "    print(f'\\033[1;32mPARABÉNS! Você adivinhou! O número é {num1}\\033[0;0;0m')\n",
    "else:\n",
    "    print(f'\\033[1;31mQue pena! O número era {num1} e você escolheu {palpite}. Vamos jogar novamente?\\033[0;0;0m')\n",
    "print('\\033[7;40m---FIM DE JOGO---')"
   ]
  },
  {
   "cell_type": "code",
   "execution_count": 32,
   "metadata": {},
   "outputs": [
    {
     "name": "stdout",
     "output_type": "stream",
     "text": [
      "\u001b[1;32mSua velocidade foi de 35.0km/h, e estava dentro da velocidade limite de 80km/h. Você não foi multado!\n",
      "Dirija com segurança. Boa viagem!\n"
     ]
    }
   ],
   "source": [
    "# Exercício #029 - Escreva um programa que leia a velocidade de um carro. \n",
    "# Se ele ultrapassar 80km/h, mostre uma mensagem dizendo que ele foi multado. \n",
    "# A multa vai custar R$ 7,00 por cada km/h acima do limite.  \n",
    "vel = float(input('Seu carro acaba de passar no radar. Qual a velocidade em que você estava? '))\n",
    "if vel > 80:\n",
    "    multa = (vel - 80)*7\n",
    "    print(f'\\033[1;31mQue pena! Você acaba de levar uma multa no valor de R$:{multa:.2f}.')\n",
    "else:\n",
    "    print(f'\\033[1;32mSua velocidade foi de {vel}km/h, e estava dentro da velocidade limite de 80km/h. Você não foi multado!')\n",
    "print('Dirija com segurança. Boa viagem!')"
   ]
  },
  {
   "cell_type": "code",
   "execution_count": 29,
   "metadata": {},
   "outputs": [
    {
     "name": "stdout",
     "output_type": "stream",
     "text": [
      "O número 2 é um número par\n",
      "FIM\n"
     ]
    }
   ],
   "source": [
    "# Exercício #030 - Crie um progrmaa que leia um número inteiro e mostre na tela se ele é PAR ou ÍMPAR.\n",
    "num1 = int(input('Digite um número:'))\n",
    "if num1  % 2 == 0:\n",
    "    print(f'O número {num1} é um número par')\n",
    "else:\n",
    "    print(f'O número {num1} é ímpar')\n",
    "print('FIM')"
   ]
  },
  {
   "cell_type": "code",
   "execution_count": 31,
   "metadata": {},
   "outputs": [
    {
     "name": "stdout",
     "output_type": "stream",
     "text": [
      "O preço da viagem a ser pago é de R$:97.50, considerando que você percorrerá 195 km.\n",
      "Pode pagar por boleto, Pix, débito ou crédito. Boa viagem!\n"
     ]
    }
   ],
   "source": [
    "# Exercício #031 - Desenvolva um programa que pergunte a distância de uma viagem em km. \n",
    "# Calcule o preço da passagem, cobrando R$0,50 por km para viagens de até 200km e R$0,45 para viagens mais longas \n",
    "distancia = int(input('Qual pe a distância da viagem que você irá fazer?'))\n",
    "if distancia <= 200:\n",
    "    preco = distancia*0.5\n",
    "    print(f'O preço da viagem a ser pago é de R$:{preco:.2f}, considerando que você percorrerá {distancia} km.')\n",
    "else:\n",
    "    preco = distancia*0.45\n",
    "    print(f'O valor da viagem a ser pago é de R$:{preco:.2f}, Considerando que você percorrerá {distancia} km.')\n",
    "print('Pode pagar por boleto, Pix, débito ou crédito. Boa viagem!')"
   ]
  },
  {
   "cell_type": "code",
   "execution_count": 39,
   "metadata": {},
   "outputs": [
    {
     "name": "stdout",
     "output_type": "stream",
     "text": [
      "O ano 2023 não é bissexto. Portanto teve, ou terá 365 dias!\n",
      "---Fim---\n"
     ]
    }
   ],
   "source": [
    "# Exercício #032 - Faça um programa que leia um ano qualquer e mostre se ele é Bissexto. \n",
    "from datetime import date\n",
    "\n",
    "ano = int(input('Digite um ano qualquer. Coloque 0 para analizar o ano atual!'))\n",
    "\n",
    "if ano == 0:\n",
    "    ano = date.today().year\n",
    "if ano % 4 == 0 and ano % 100 != 0 or ano % 400 == 0:\n",
    "    print(f'O ano {ano} é bissexto. Portanto teve, ou terá 366 dias!')\n",
    "else:\n",
    "    print(f'O ano {ano} não é bissexto. Portanto teve, ou terá 365 dias!')\n",
    "print('---Fim---')"
   ]
  },
  {
   "cell_type": "code",
   "execution_count": 11,
   "metadata": {},
   "outputs": [
    {
     "name": "stdout",
     "output_type": "stream",
     "text": [
      "O número 6 é o maior entre os demais\n"
     ]
    }
   ],
   "source": [
    "# Exercício #033 - Faça um programa que leia três números e mostre qual é o maior e qual é o menor.\n",
    "n1 = int(input('Digite o 1o número: ')) \n",
    "n2 = int(input('Digite o 2o número: '))\n",
    "n3 = int(input('Digite o 3o número: '))\n",
    "\n",
    "if n1 > n2 and n1 > n3:\n",
    "    print(f'O número {n1} é o maior entre os demais')\n",
    "elif n2 > n1 and n2 > n3:\n",
    "    print(f'O número {n2} é o maior entre os demais')\n",
    "elif n3 > n1 and n3 > n2:\n",
    "    print(f'O número {n3} é o maior entre os demais')\n",
    "\n",
    "'''Resolução do Guanabara (Ele evitou usar um if, o código ficou mais leve!)\n",
    "\n",
    "a = int(input('1o valor')\n",
    "b = int(input('2o valor')\n",
    "c = int(input('3o valor')\n",
    "\n",
    "menor = a\n",
    "if b < a and b < c:\n",
    "    menor = b\n",
    "if c < a and c < b:\n",
    "    menor = c\n",
    "print(f'...')'''"
   ]
  },
  {
   "cell_type": "code",
   "execution_count": 18,
   "metadata": {},
   "outputs": [
    {
     "name": "stdout",
     "output_type": "stream",
     "text": [
      "Parabéns Matheus, você foi premiado com um novo salário. Apartir de agora, você receberá a quantia de R$: 3300.00. Não gaste tudo em balas!\n"
     ]
    }
   ],
   "source": [
    "# Exercício #034 - Escreva um programa que pergunte o salário de um funcionário e calcule o valor de seu aumento. \n",
    "# Para salários superiores a R$1250,00, caulule um aumento de 10%. \n",
    "# Para salários inferiores ou iguais, o aumento é de 15%.\n",
    "funcionario = str(input('Qual o funcionário que deseja premiar com um aumento? '))\n",
    "salario = float(input(f'Digite o salário atual do funcionnário {funcionario}: '))\n",
    "\n",
    "if salario > 1250.00 :\n",
    "    novo_salario = salario*1.10\n",
    "    print(f'Parabéns {funcionario}, você foi premiado com um novo salário. Apartir de agora, você receberá a quantia de R$: {novo_salario:.2f}. Não gaste tudo em balas!')\n",
    "else:\n",
    "    novo_salario = salario*1.15\n",
    "    print(f'Parabéns {funcionario}, você foi premiado com um novo salário. Apartir de agora, você receberá a quantia de R$: {novo_salario:.2f}. Não gaste tudo em balas!')"
   ]
  },
  {
   "cell_type": "code",
   "execution_count": 4,
   "metadata": {},
   "outputs": [
    {
     "name": "stdout",
     "output_type": "stream",
     "text": [
      "As retas informadas 3.0, 3.0 e 3.0 obedecem a condição para comporem um triângulo.\n"
     ]
    }
   ],
   "source": [
    "# Exercício #035 - Desenvolva um programa que leia o comprimento de três retas e diga ao usuário se elas podem ou não formar um triângulo.\n",
    "reta1 = float(input('Informe o valor da 1a reta de um triângulo:')) \n",
    "reta2 = float(input('Informe o valor da 2a reta de um triângulo:'))\n",
    "reta3 = float(input('Informe o valor da 3a reta de um triângulo:'))\n",
    "\n",
    "if reta1 < (reta2 + reta3) and reta2 < (reta1 + reta3) and reta3 < (reta1 + reta2):\n",
    "    print(f'As retas informadas {reta1}, {reta2} e {reta3} obedecem a condição para comporem um triângulo.')\n",
    "else:\n",
    "    print('As retas mensionadas não compõem um triângulo. Favor tentar novamente')\n"
   ]
  },
  {
   "attachments": {},
   "cell_type": "markdown",
   "metadata": {},
   "source": [
    "# Trabalhando com CORES no terminal\n",
    "\n",
    "## Padrão ANSI - escape sequence\n",
    "\n",
    "### Sempre que quiser representar uma cor em Python, devemos começar com \\033[ (style, text, back) m\n",
    "1. Style: \n",
    "    1. 0 = none\n",
    "    2. 1 = bold\n",
    "    3. 4 = underline\n",
    "    4. 7 = negative\n",
    "2. Text-color: \n",
    "    1. 30 = white\n",
    "    2. 31 = red\n",
    "    3. 32 = green\n",
    "    4. 33 = yellow\n",
    "    5. 34 = blue\n",
    "    6. 35 = purple\n",
    "    7. 36 = ciano\n",
    "    8. 37 = gray\n",
    "3. Background-color: \n",
    "    1. 40 = white\n",
    "    2. 41 = red\n",
    "    3. 42 = green\n",
    "    4. 43 = yellow\n",
    "    5. 44 = blue\n",
    "    6. 45 = purple\n",
    "    7. 46 = ciano\n",
    "    8. 47 = gray\n",
    "---\n",
    "    Exemplo 1:\n",
    "\n",
    "\\033[0;30;41m\n",
    "\n",
    "\\033[4;33;44m\n",
    "\n",
    "\\033[1;35;43m\n",
    "\n",
    "\\033[30;42m\n",
    "\n",
    "\\033[0;37;0m\n",
    "\n",
    "\\033[7;30;0m\n",
    "\n",
    "    Resoluções abaixo, em ordem."
   ]
  },
  {
   "cell_type": "code",
   "execution_count": 12,
   "metadata": {},
   "outputs": [
    {
     "name": "stdout",
     "output_type": "stream",
     "text": [
      "\u001b[0;0;41mOlá mundo!\u001b[m\n",
      "\u001b[4;33;44mMeu nome é:\u001b[m\n",
      "\u001b[1;35;43mMatheus Felipe Braga\u001b[m\n",
      "\u001b[0;30;42mSou nascido em: \u001b[m\n",
      "\u001b[37;40m29/05/1989\u001b[m\n",
      "\u001b[7;30mna cidade de Viçosa-MG\u001b[m\n"
     ]
    }
   ],
   "source": [
    "print('\\033[0;0;41mOlá mundo!\\033[m')\n",
    "\n",
    "print('\\033[4;33;44mMeu nome é:\\033[m')\n",
    "\n",
    "print('\\033[1;35;43mMatheus Felipe Braga\\033[m')\n",
    "\n",
    "print('\\033[0;30;42mSou nascido em: \\033[m')\n",
    "\n",
    "print('\\033[37;40m29/05/1989\\033[m')\n",
    "\n",
    "print('\\033[7;30mna cidade de Viçosa-MG\\033[m')\n"
   ]
  },
  {
   "cell_type": "code",
   "execution_count": null,
   "metadata": {},
   "outputs": [],
   "source": []
  }
 ],
 "metadata": {
  "kernelspec": {
   "display_name": "Python 3",
   "language": "python",
   "name": "python3"
  },
  "language_info": {
   "codemirror_mode": {
    "name": "ipython",
    "version": 3
   },
   "file_extension": ".py",
   "mimetype": "text/x-python",
   "name": "python",
   "nbconvert_exporter": "python",
   "pygments_lexer": "ipython3",
   "version": "3.10.12"
  },
  "orig_nbformat": 4,
  "vscode": {
   "interpreter": {
    "hash": "916dbcbb3f70747c44a77c7bcd40155683ae19c65e1c03b4aa3499c5328201f1"
   }
  }
 },
 "nbformat": 4,
 "nbformat_minor": 2
}
