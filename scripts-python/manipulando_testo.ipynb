{
 "cells": [
  {
   "attachments": {},
   "cell_type": "markdown",
   "metadata": {},
   "source": [
    "# Manipulando cadeias de texto (caracteres, ou string) em **Python**\n",
    "1. Para o Python, toda cadeia de texto está entre aspas simples ou duplas\n",
    "2. Atribuição de uma string, dentro de uma variável\n",
    "    1. frase = 'Curso em vídeo Python'\n",
    "        1. O computador guarda essa string em blocos separados por caractere, para que seja possível qualquer tipo de tratamento (operações) necessário a ser feito\n",
    "        2. Fatiamento - fatiar uma string é conseguir pegar pedaços da mesma\n",
    "        3.  "
   ]
  },
  {
   "cell_type": "code",
   "execution_count": 44,
   "metadata": {},
   "outputs": [
    {
     "name": "stdout",
     "output_type": "stream",
     "text": [
      "Curso em Vídeo Python\n",
      "V\n",
      "Víde\n",
      "Vídeo Python\n",
      "VdoPto\n",
      "Curso\n",
      "Python\n",
      "VePh\n",
      "Em linguística, a noção de texto é ampla e ainda aberta a uma definição mais precisa. Grosso modo, pode ser entendido como manifestação linguística das ideias de um autor, que serão interpretadas pelo leitor de acordo com seus conhecimentos linguísticos e culturais. Seu tamanho é variável.\n",
      "\n",
      "“Conjunto de palavras e frases articuladas, escritas sobre qualquer suporte”\n"
     ]
    }
   ],
   "source": [
    "#Fatiamento [ valor de início do fatiamento (0) : valor final de fatiamento  (21) : blocos a pular no meio do fatiamento (1)]\n",
    "\n",
    "frase = 'Curso em Vídeo Python'\n",
    "print(frase)\n",
    "'''Fatiamento e impressão do caractere de número 9 (que é seu décimo elemento) da string que a variável 'frase' está atribuida '''\n",
    "print(frase[9])\n",
    "print(frase[9:13]) #Começa no 9o caractere e pega até o 13o caractere (parando antes do 13, não o imprime)\n",
    "print(frase[9:21])\n",
    "print(frase[9:21:2]) #Começa no 9, vai até o 21 (pegando até o 20), pulando de 2 em 2 \n",
    "print(frase[:5]) #Omitir o início, o python considera que é o primeiro caractere (caractere de número 0)\n",
    "print(frase[15:]) #Omitir o final, o python considera que é o ultimo caractere\n",
    "print(frase[9::3]) #Começa no 9, vai até o final, e salta de 3 em 3\n",
    "\n",
    "print('''Em linguística, a noção de texto é ampla e ainda aberta a uma definição mais precisa. Grosso modo, pode ser entendido como manifestação linguística das ideias de um autor, que serão interpretadas pelo leitor de acordo com seus conhecimentos linguísticos e culturais. Seu tamanho é variável.\n",
    "\n",
    "“Conjunto de palavras e frases articuladas, escritas sobre qualquer suporte”''')\n",
    "# Abrindo e fechando aspas triplas, serve tanto para comentário, quanto para pegar quebras de linhas dentro do print"
   ]
  },
  {
   "cell_type": "code",
   "execution_count": 20,
   "metadata": {},
   "outputs": [
    {
     "name": "stdout",
     "output_type": "stream",
     "text": [
      "21\n",
      "3\n",
      "1\n",
      "11\n",
      "-1\n"
     ]
    },
    {
     "data": {
      "text/plain": [
       "True"
      ]
     },
     "execution_count": 20,
     "metadata": {},
     "output_type": "execute_result"
    }
   ],
   "source": [
    "# Análise\n",
    "\n",
    "frase = 'Curso em Vídeo Python'\n",
    "'''Análise é uma das operações mais utilizadas em Python, serve para analisar as strings de muitas formas'''\n",
    "print(len(frase)) \n",
    "# 'len' Analisa quantos caracteres temos na string\n",
    "\n",
    "print(frase.count('o')) \n",
    "# 'count' conta quantos caracteres do tipo declarado temos na string\n",
    "\n",
    "print(frase.count('o',0,13))\n",
    "\n",
    "print(frase.find('deo'))\n",
    "# 'find' diz em que momento começou a junção de caracteres fornecida ao sistema (no caso, o início foi no caractere de numero 11, ou 12o caractere)\n",
    "\n",
    "print(frase.find('Android'))\n",
    "# Se for colocado uma string que não existe, dentro do find, ele retornará o valor '-1', sempre. Caso receber este valor, considerar o programa dizendo que essa sequência de caracteres não existem na string\n",
    "\n",
    "'Curso' in frase\n",
    "# ''Curso' in frase' quer dizer para o Python: Existe a palavra 'Curso' dentro de frase? O programa retornará True ou False"
   ]
  },
  {
   "cell_type": "code",
   "execution_count": 48,
   "metadata": {},
   "outputs": [
    {
     "name": "stdout",
     "output_type": "stream",
     "text": [
      "Curso em Vídeo Python\n",
      "Curso em Vídeo Android\n"
     ]
    }
   ],
   "source": [
    "#Transformação - Uma string, é IMUTÁVEL, a não ser que seja utilizada um função de transformação de string e, além disso, faça uma atribuição ao objeto principal\n",
    "\n",
    "frase = 'Curso em Vídeo Python'\n",
    "frase.replace('Python', 'Android')\n",
    "print(frase)\n",
    "\n",
    "frase = 'Curso em Vídeo Python'\n",
    "frase = frase.replace('Python', 'Android')\n",
    "print(frase)\n"
   ]
  },
  {
   "cell_type": "code",
   "execution_count": 47,
   "metadata": {},
   "outputs": [
    {
     "name": "stdout",
     "output_type": "stream",
     "text": [
      "Curso em Vídeo Android\n",
      "CURSO EM VÍDEO PYTHON\n",
      "curso em vídeo python\n",
      "Curso em vídeo python\n",
      "Curso Em Vídeo Python\n",
      "Aprenda Python\n",
      "   Aprenda Python\n",
      "Aprenda Python  \n",
      "3\n"
     ]
    }
   ],
   "source": [
    "#Transformação - Uma string, é IMUTÁVEL, a não ser que seja utilizada um função de transformação de string e, além disso, faça uma atribuição ao objeto principal\n",
    "\n",
    "frase = 'Curso em Vídeo Python'\n",
    "frase.replace('Python', 'Android')\n",
    "print(frase)\n",
    "\n",
    "# 'replace' troca/reposicional/substitui o comando dado pelo outro\n",
    "\n",
    "print(frase.upper())\n",
    "print(frase.lower())\n",
    "print(frase.capitalize())\n",
    "print(frase.title())\n",
    "# Método 'upper' coloca o comando dado em maiúsculo e o 'lower' em minusculo e o captalize somente o 1o caractere é maiusculo\n",
    "# O método title faz o capitalize 'palavra por palavra'\n",
    "\n",
    "frase02 = '   Aprenda Python  '\n",
    "\n",
    "print(frase02.strip())\n",
    "print(frase02.rstrip())\n",
    "print(frase02.lstrip())\n",
    "# 'strip' retira os caracteres de espaços desnecessários na string, 'rstrip' e 'lstrip' retiram caracteres desnecessários pela direita (rigth) e esquerda (left) respectivamente\n",
    "\n",
    "print(frase.upper().count('O'))\n",
    "# Como tudo em Python é objeto, dá para combinar as funcionalidades facilmente"
   ]
  },
  {
   "cell_type": "code",
   "execution_count": 50,
   "metadata": {},
   "outputs": [
    {
     "name": "stdout",
     "output_type": "stream",
     "text": [
      "['Curso', 'em', 'Vídeo', 'Python']\n",
      "['Curso', 'em Vídeo Python']\n",
      "e\n",
      "Vídeo\n",
      "C-u-r-s-o- -e-m- -V-í-d-e-o- -P-y-t-h-o-n\n",
      "Curso-em-Vídeo-Python\n"
     ]
    }
   ],
   "source": [
    "# Divisão\n",
    "\n",
    "frase = 'Curso em Vídeo Python'\n",
    "\n",
    "print(frase.split())\n",
    "print(frase.split(maxsplit=1))\n",
    "dividido = frase.split()\n",
    "print(dividido[2][3])\n",
    "print(dividido[2])\n",
    "# 'split' divide/delimita a área dos caracteres de espaço, dividindo assim uma string em uma lista com várias strings\n",
    "# 'maxsplit' aponta o máximo de divisões que deseja fazer\n",
    "\n",
    "#Junção\n",
    "\n",
    "print('-'.join(frase))\n",
    "print('-'.join(frase.split()))\n",
    "# 'join' faz a junção das strings com o caractere desejado para a junção entre os caracteres ou as strings, se utiliados com o split\n"
   ]
  },
  {
   "cell_type": "code",
   "execution_count": 22,
   "metadata": {},
   "outputs": [
    {
     "name": "stdout",
     "output_type": "stream",
     "text": [
      "Seu nome em maipusculas é MATHEUS FELIPE BRAGA\n",
      "Seu nome em minúsculas é matheus felipe braga\n",
      "Seu nome tem ao todo 18 letras\n",
      "Seu primeiro nome é 7 letras\n"
     ]
    }
   ],
   "source": [
    "# Exercício #022 - Crie um programa que leia o nome completo de uma pessoa e mostre:\n",
    "#O nome com todas as letras maiúsculas\n",
    "#O nome com todas as letras minúsculas\n",
    "#Quantas letras ao todo (sem considerar espaços)\n",
    "#Quantas letras tem o primeiro nome\n",
    "nome = input('Digite seu nome completo: ').strip()\n",
    "max = nome.upper()\n",
    "min = nome.lower()\n",
    "dividido = nome.split()\n",
    "num = len(nome) - nome.count(' ')\n",
    "pri = nome.find(' ')\n",
    "print(f'Seu nome em maipusculas é {max}')\n",
    "print(f'Seu nome em minúsculas é {min}')\n",
    "print(f'Seu nome tem ao todo {num} letras')\n",
    "print(f'Seu primeiro nome é {pri} letras')"
   ]
  },
  {
   "cell_type": "code",
   "execution_count": 7,
   "metadata": {},
   "outputs": [
    {
     "name": "stdout",
     "output_type": "stream",
     "text": [
      "Analizando o número 1234\n",
      "Unidade = 4\n",
      "Dezena = 3\n",
      "Centena = 2\n",
      "Milhar = 1\n"
     ]
    }
   ],
   "source": [
    "#Exercício #023 - Faça um programa que leia um número de 0 a 9999 e mostre na tela cada um dos digitos separados. Ex: 1834. Unidade 4, dezena 3, centena 8, milhar 1.\n",
    "num = int(input('Digite um número inteiro de quatro dígitos: '))\n",
    "n = str(num)\n",
    "print(f'Analizando o número {num}')\n",
    "unidade = num // 1 % 10\n",
    "dezena = num // 10 % 10\n",
    "centena = num // 100 % 10\n",
    "milhar = num // 1000 % 10\n",
    "\n",
    "\n",
    "print(f'Unidade = {unidade}\\nDezena = {dezena}\\nCentena = {centena}\\nMilhar = {milhar}')\n"
   ]
  },
  {
   "cell_type": "code",
   "execution_count": 10,
   "metadata": {},
   "outputs": [
    {
     "data": {
      "text/plain": [
       "True"
      ]
     },
     "execution_count": 10,
     "metadata": {},
     "output_type": "execute_result"
    }
   ],
   "source": [
    "#Exercício #024 - Crie um programa que leia o nome de uma cidade e diga se ela começa ou não com o nome 'Santo'.\n",
    "nome = input('Digite o nome de uma cidade: ').strip().upper()\n",
    "\n",
    "'SANTO' in nome"
   ]
  },
  {
   "cell_type": "code",
   "execution_count": 11,
   "metadata": {},
   "outputs": [
    {
     "data": {
      "text/plain": [
       "True"
      ]
     },
     "execution_count": 11,
     "metadata": {},
     "output_type": "execute_result"
    }
   ],
   "source": [
    "#Exercício #025 - Crie um programa que leia o nome de uma pessoa e diga se ela tem 'Silva' no nome.\n",
    "nome = input('Digite um nome: ').strip().upper()\n",
    "'SILVA' in nome\n"
   ]
  },
  {
   "cell_type": "code",
   "execution_count": 109,
   "metadata": {},
   "outputs": [
    {
     "name": "stdout",
     "output_type": "stream",
     "text": [
      "A frase \"É HORA DE DAR TCHAU!\", tem 3 letras \"A\"\n",
      "A primeira letra \"A\" está na 6° posição e a última letra \"A\" está na 18° posição\n"
     ]
    }
   ],
   "source": [
    "#Exercício #026 - Faça um programa que leia uma frase pelo teclado e mostre: \n",
    "#Quantas vezes aparece a letra 'A'.\n",
    "#Em que posição ela aparece a primeira vez\n",
    "#Em que posição ela aparece a útima vez\n",
    "\n",
    "frase = input('Digite uma frase: ').upper().strip()\n",
    "letraA = frase.count('A')\n",
    "posicao = frase.find('A')+1\n",
    "ultimo = frase.rfind('A',)+1\n",
    "print(f'A frase \"{frase}\", tem {letraA} letras \"A\"\\nA primeira letra \"A\" está na {posicao}° posição e a última letra \"A\" está na {ultimo}° posição')\n"
   ]
  },
  {
   "cell_type": "code",
   "execution_count": 110,
   "metadata": {},
   "outputs": [
    {
     "name": "stdout",
     "output_type": "stream",
     "text": [
      "Analisando o nome Matheus Felipe Braga\n",
      "Seu primeiro nome é Matheus\n",
      "Seu ultimo nome é Braga\n"
     ]
    }
   ],
   "source": [
    "#Exercício #027 - Faça um programa que leia o nome completo de uma pessoa, mostrando em seguida o primeiro e o último nome separadamente. Ex: Ana Maria de Souza. Primeiro: ANa. Último: Souza\n",
    "\n",
    "nome = input('Digite seu nome completo: ').title().strip()\n",
    "n1 = nome.split()\n",
    "\n",
    "print(f'Analisando o nome {nome}')\n",
    "print(f'Seu primeiro nome é {n1[0]}\\nSeu ultimo nome é {n1[-1]}')"
   ]
  }
 ],
 "metadata": {
  "kernelspec": {
   "display_name": "Python 3",
   "language": "python",
   "name": "python3"
  },
  "language_info": {
   "codemirror_mode": {
    "name": "ipython",
    "version": 3
   },
   "file_extension": ".py",
   "mimetype": "text/x-python",
   "name": "python",
   "nbconvert_exporter": "python",
   "pygments_lexer": "ipython3",
   "version": "3.10.6 (main, Nov 14 2022, 16:10:14) [GCC 11.3.0]"
  },
  "orig_nbformat": 4,
  "vscode": {
   "interpreter": {
    "hash": "916dbcbb3f70747c44a77c7bcd40155683ae19c65e1c03b4aa3499c5328201f1"
   }
  }
 },
 "nbformat": 4,
 "nbformat_minor": 2
}
