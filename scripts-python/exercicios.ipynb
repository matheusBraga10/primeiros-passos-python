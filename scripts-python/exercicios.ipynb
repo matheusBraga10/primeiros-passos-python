{
 "cells": [
  {
   "attachments": {},
   "cell_type": "markdown",
   "metadata": {},
   "source": [
    "Exercícios do Curso de Python 3"
   ]
  },
  {
   "cell_type": "code",
   "execution_count": null,
   "metadata": {},
   "outputs": [],
   "source": [
    "print('Olá, Mundo!')\n",
    "print (7+4)\n",
    "print ('7'+'4')\n",
    "print('Olá, ', 10)"
   ]
  }
 ],
 "metadata": {
  "kernelspec": {
   "display_name": "ambiente_teste",
   "language": "python",
   "name": "python3"
  },
  "language_info": {
   "name": "python",
   "version": "3.10.6 (tags/v3.10.6:9c7b4bd, Aug  1 2022, 21:53:49) [MSC v.1932 64 bit (AMD64)]"
  },
  "orig_nbformat": 4,
  "vscode": {
   "interpreter": {
    "hash": "01b77c5819b053520e7106da9ce5d2562d6bba1a397b7140e9708f909f83b901"
   }
  }
 },
 "nbformat": 4,
 "nbformat_minor": 2
}
