{
 "cells": [
  {
   "attachments": {},
   "cell_type": "markdown",
   "metadata": {},
   "source": [
    "Exercícios do Curso de Python 3"
   ]
  },
  {
   "cell_type": "code",
   "execution_count": 1,
   "metadata": {},
   "outputs": [
    {
     "name": "stdout",
     "output_type": "stream",
     "text": [
      "Olá, Mundo!\n",
      "11\n",
      "74\n",
      "Olá,  10\n"
     ]
    }
   ],
   "source": [
    "print('Olá, Mundo!')\n",
    "print (7+4)\n",
    "print ('7'+'4')\n",
    "print('Olá, ', 10)"
   ]
  },
  {
   "cell_type": "code",
   "execution_count": 8,
   "metadata": {},
   "outputs": [
    {
     "name": "stdout",
     "output_type": "stream",
     "text": [
      "Olá,  Matheus seja bem-vindo ao Python!\n",
      "É um grande prazer em te conhecer,  Matheus !\n"
     ]
    }
   ],
   "source": [
    "'''Crie um scrpt python, que leia o nome de uma pessoa\n",
    "e mostre a mensagem de boas-vindas de acordo com o valor digitado'''\n",
    "nome = input('Qual é o seu nome? ')\n",
    "print ('Olá, ', nome, 'seja bem-vindo ao Python!' )\n",
    "print('É um grande prazer em te conhecer, ', nome, '!')"
   ]
  },
  {
   "cell_type": "code",
   "execution_count": 3,
   "metadata": {},
   "outputs": [
    {
     "name": "stdout",
     "output_type": "stream",
     "text": [
      "Você nasceu em:  29 / 05 / 89\n"
     ]
    }
   ],
   "source": [
    "'''Crie um script Python que leia o mês do ano de nascimento de uma\n",
    "pessoa e mostre uma mensagem com a data formatada'''\n",
    "ano = input('Qual ano você nasceu? ')\n",
    "mes = input('Qual mês você nasceu?? ')\n",
    "dia = input('Que dia você nasceu? ')\n",
    "print ('Você nasceu em: ', dia,'/', mes,'/', ano)\n",
    "print ('Você nasceu no dia ', dia, 'de ', mes, 'de' , ano, '. Correto?')"
   ]
  },
  {
   "cell_type": "code",
   "execution_count": 4,
   "metadata": {},
   "outputs": [
    {
     "name": "stdout",
     "output_type": "stream",
     "text": [
      "89 + 29 =  118\n"
     ]
    }
   ],
   "source": [
    "'''Crie um script Python que leia dois numeros e tente mostrar a soma entre eles'''\n",
    "num1 = int(input('Digite o primero numero da soma desejeda: '))\n",
    "num2 = int(input('Digite o segundo numero da soma desejeda: '))\n",
    "# int(input) 'diz' para o input que o caractere a ser digitado pelo usuário será um número inteiro\n",
    "num3 = (num1 + num2)\n",
    "print(num1, '+', num2, '= ', num3)"
   ]
  },
  {
   "cell_type": "code",
   "execution_count": 7,
   "metadata": {},
   "outputs": [
    {
     "name": "stdout",
     "output_type": "stream",
     "text": [
      "Olá, Mundo!\n",
      "Hello, Word!\n"
     ]
    }
   ],
   "source": [
    "#Lista de exercícios Python #001 - Deixando tudo pronto\n",
    "print('Olá, Mundo!')\n",
    "msg = 'Hello, Word!'\n",
    "print(msg)"
   ]
  },
  {
   "cell_type": "code",
   "execution_count": 10,
   "metadata": {},
   "outputs": [
    {
     "name": "stdout",
     "output_type": "stream",
     "text": [
      "Olá, Matheus Felipe. Seja bem-vindo ao mundo Python!\n"
     ]
    }
   ],
   "source": [
    "#Lista de exercícios Python #002 - Respondendo ao usuário\n",
    "nome = input('Qual o seu nome? ')\n",
    "print(f'Olá, {nome}. Seja bem-vindo ao mundo Python!')"
   ]
  },
  {
   "attachments": {},
   "cell_type": "markdown",
   "metadata": {},
   "source": [
    "Tipos Primitivos e Saída de Dados - Python"
   ]
  },
  {
   "cell_type": "code",
   "execution_count": 5,
   "metadata": {},
   "outputs": [
    {
     "name": "stdout",
     "output_type": "stream",
     "text": [
      "A soma entre 6 e 5 vale 11\n"
     ]
    }
   ],
   "source": [
    "# Str = caracteres (letras, frases, textos) \n",
    "# int = números inteiros (4, -7, 0, 15679)\n",
    "# float = números não inteiros (4.5, 0.0000458, -15.223, 7.0)\n",
    "# bool = Booleano (true, False)\n",
    "'''Por padrão, o input interpreta Strings\n",
    "Porém, se dermos int(input) o mesmo interpretará\n",
    "números inteiros'''\n",
    "#------------------------------------------------\n",
    "a = int(input('Digite um número'))\n",
    "b = int(input('Digite mais um número'))\n",
    "\n",
    "c = a + b\n",
    "\n",
    "print(f'A soma entre {a} e {b} vale {c}')"
   ]
  },
  {
   "cell_type": "code",
   "execution_count": 4,
   "metadata": {},
   "outputs": [
    {
     "name": "stdout",
     "output_type": "stream",
     "text": [
      "<class 'str'>\n",
      "<class 'int'>\n"
     ]
    }
   ],
   "source": [
    "n1 = input('Digite um valor: ')\n",
    "print(type(n1))\n",
    "\n",
    "n2 = int(input('Digite um valor: '))\n",
    "print(type(n2))"
   ]
  },
  {
   "cell_type": "code",
   "execution_count": 9,
   "metadata": {},
   "outputs": [
    {
     "name": "stdout",
     "output_type": "stream",
     "text": [
      "1.0\n",
      "<class 'str'>\n",
      "3\n",
      "True\n",
      "False\n"
     ]
    }
   ],
   "source": [
    "n = float(input('Digite um valor: '))\n",
    "print(n)\n",
    "n = (input('Digite um valor: '))\n",
    "print(type(n))\n",
    "n = int(input('Digite um valor: '))\n",
    "print(n)\n",
    "n = bool(input('Digite um valor: '))\n",
    "print(n)\n"
   ]
  },
  {
   "cell_type": "code",
   "execution_count": 10,
   "metadata": {},
   "outputs": [
    {
     "name": "stdout",
     "output_type": "stream",
     "text": [
      "True\n",
      "False\n",
      "True\n"
     ]
    }
   ],
   "source": [
    "# Os métodos de teste de tipo is... tem muita variedade\n",
    "n = (input('Digite um valor: '))\n",
    "print(n.isnumeric())\n",
    "\n",
    "n = (input('Digite um valor: '))\n",
    "print(n.isalpha())\n",
    "\n",
    "n = (input('Digite um valor: '))\n",
    "print(n.isalnum())"
   ]
  },
  {
   "cell_type": "code",
   "execution_count": 12,
   "metadata": {},
   "outputs": [
    {
     "name": "stdout",
     "output_type": "stream",
     "text": [
      "A soma entre os números 5.6561 e 9.6548 é 15.3109\n"
     ]
    }
   ],
   "source": [
    "num1 = float(input('Digite um número: '))\n",
    "num2 = float(input('Digite outro número para ser somado ao primeiro: '))\n",
    "\n",
    "resp = num1 +  num2\n",
    "\n",
    "print(f'A soma entre os números {num1} e {num2} é {resp}')"
   ]
  },
  {
   "cell_type": "code",
   "execution_count": 19,
   "metadata": {},
   "outputs": [
    {
     "name": "stdout",
     "output_type": "stream",
     "text": [
      "<class 'str'>\n",
      "3a é um número?  False\n",
      "3a é um texto?  False\n",
      "3a é um texto com números?  True\n"
     ]
    }
   ],
   "source": [
    "n = input('Digite algo: ')\n",
    "print(type(n))\n",
    "print(f'{n} é um número? ', n.isnumeric())\n",
    "print(f'{n} é um texto? ', n.isalpha())\n",
    "print(f'{n} é um texto com números? ', n.isalnum())"
   ]
  },
  {
   "cell_type": "code",
   "execution_count": 21,
   "metadata": {},
   "outputs": [
    {
     "name": "stdout",
     "output_type": "stream",
     "text": [
      "A soma entre 6 e 5 é igual a 11\n"
     ]
    }
   ],
   "source": [
    "#Exercício Python #003 - Somando dois números\n",
    "#--------------------------------------------\n",
    "num1 = int(input('Digite um número a ser somado: '))\n",
    "num2 = int(input('Digite um número a ser somado: '))\n",
    "\n",
    "num3 = num1 + num2 \n",
    "\n",
    "print(f'A soma entre {num1} e {num2} é igual a {num3}')\n",
    "\n"
   ]
  },
  {
   "cell_type": "code",
   "execution_count": 28,
   "metadata": {},
   "outputs": [
    {
     "name": "stdout",
     "output_type": "stream",
     "text": [
      "O tipo primitivo deste valor é  <class 'str'>\n",
      "Só tem espaços?  False\n",
      "Só tem numeros?  False\n",
      "Só possui letras?  False\n",
      "É alfanumperico?  False\n",
      "Está em maiusculas?  False\n",
      "Está em minusculas?  False\n",
      "Está capitalizada?  True\n"
     ]
    }
   ],
   "source": [
    "#Exercício Python #004 - Dissecando uma variável\n",
    "#---------------------------------------------\n",
    "n = input('Digite Algo: ')\n",
    "print('O tipo primitivo deste valor é ', type(n))\n",
    "print('Só tem espaços? ', n.isspace())\n",
    "print('Só tem numeros? ', n.isnumeric())\n",
    "print('Só possui letras? ', n.isalpha())\n",
    "print('É alfanumperico? ', n.isalnum())\n",
    "print('Está em maiusculas? ', n.isupper())\n",
    "print('Está em minusculas? ', n.islower())\n",
    "print('Está capitalizada? ', n.istitle())"
   ]
  }
 ],
 "metadata": {
  "kernelspec": {
   "display_name": "ambiente_teste",
   "language": "python",
   "name": "python3"
  },
  "language_info": {
   "codemirror_mode": {
    "name": "ipython",
    "version": 3
   },
   "file_extension": ".py",
   "mimetype": "text/x-python",
   "name": "python",
   "nbconvert_exporter": "python",
   "pygments_lexer": "ipython3",
   "version": "3.10.6"
  },
  "orig_nbformat": 4,
  "vscode": {
   "interpreter": {
    "hash": "01b77c5819b053520e7106da9ce5d2562d6bba1a397b7140e9708f909f83b901"
   }
  }
 },
 "nbformat": 4,
 "nbformat_minor": 2
}
