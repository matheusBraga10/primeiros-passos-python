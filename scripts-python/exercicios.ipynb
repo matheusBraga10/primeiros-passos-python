{
 "cells": [
  {
   "attachments": {},
   "cell_type": "markdown",
   "metadata": {},
   "source": [
    "Exercícios do Curso de Python 3"
   ]
  },
  {
   "cell_type": "code",
   "execution_count": 1,
   "metadata": {},
   "outputs": [
    {
     "name": "stdout",
     "output_type": "stream",
     "text": [
      "Olá, Mundo!\n",
      "11\n",
      "74\n",
      "Olá,  10\n"
     ]
    }
   ],
   "source": [
    "print('Olá, Mundo!')\n",
    "print (7+4)\n",
    "print ('7'+'4')\n",
    "print('Olá, ', 10)"
   ]
  },
  {
   "cell_type": "code",
   "execution_count": 8,
   "metadata": {},
   "outputs": [
    {
     "name": "stdout",
     "output_type": "stream",
     "text": [
      "Olá,  Matheus seja bem-vindo ao Python!\n",
      "É um grande prazer em te conhecer,  Matheus !\n"
     ]
    }
   ],
   "source": [
    "'''Crie um scrpt python, que leia o nome de uma pessoa\n",
    "e mostre a mensagem de boas-vindas de acordo com o valor digitado'''\n",
    "nome = input('Qual é o seu nome? ')\n",
    "print ('Olá, ', nome, 'seja bem-vindo ao Python!' )\n",
    "print('É um grande prazer em te conhecer, ', nome, '!')"
   ]
  },
  {
   "cell_type": "code",
   "execution_count": 3,
   "metadata": {},
   "outputs": [
    {
     "name": "stdout",
     "output_type": "stream",
     "text": [
      "Você nasceu em:  29 / 05 / 89\n"
     ]
    }
   ],
   "source": [
    "'''Crie um script Python que leia o mês do ano de nascimento de uma\n",
    "pessoa e mostre uma mensagem com a data formatada'''\n",
    "ano = input('Qual ano você nasceu? ')\n",
    "mes = input('Qual mês você nasceu?? ')\n",
    "dia = input('Que dia você nasceu? ')\n",
    "print ('Você nasceu em: ', dia,'/', mes,'/', ano)\n",
    "print ('Você nasceu no dia ', dia, 'de ', mes, 'de' , ano, '. Correto?')"
   ]
  },
  {
   "cell_type": "code",
   "execution_count": 4,
   "metadata": {},
   "outputs": [
    {
     "name": "stdout",
     "output_type": "stream",
     "text": [
      "89 + 29 =  118\n"
     ]
    }
   ],
   "source": [
    "'''Crie um script Python que leia dois numeros e tente mostrar a soma entre eles'''\n",
    "num1 = int(input('Digite o primero numero da soma desejeda: '))\n",
    "num2 = int(input('Digite o segundo numero da soma desejeda: '))\n",
    "# int(input) 'diz' para o input que o caractere a ser digitado pelo usuário será um número inteiro\n",
    "num3 = (num1 + num2)\n",
    "print(num1, '+', num2, '= ', num3)"
   ]
  },
  {
   "cell_type": "code",
   "execution_count": null,
   "metadata": {},
   "outputs": [],
   "source": []
  }
 ],
 "metadata": {
  "kernelspec": {
   "display_name": "ambiente_teste",
   "language": "python",
   "name": "python3"
  },
  "language_info": {
   "codemirror_mode": {
    "name": "ipython",
    "version": 3
   },
   "file_extension": ".py",
   "mimetype": "text/x-python",
   "name": "python",
   "nbconvert_exporter": "python",
   "pygments_lexer": "ipython3",
   "version": "3.10.6"
  },
  "orig_nbformat": 4,
  "vscode": {
   "interpreter": {
    "hash": "01b77c5819b053520e7106da9ce5d2562d6bba1a397b7140e9708f909f83b901"
   }
  }
 },
 "nbformat": 4,
 "nbformat_minor": 2
}
