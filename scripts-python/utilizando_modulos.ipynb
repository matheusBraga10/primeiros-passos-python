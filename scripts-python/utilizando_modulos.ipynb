{
 "cells": [
  {
   "attachments": {},
   "cell_type": "markdown",
   "metadata": {},
   "source": [
    "# Exercícios e explicações de conteúdo **Python**\n",
    "     Extendendo a linguagem e colocando funcionalidades extras\n",
    "---\n",
    "## Utilizando Módulos\n",
    "1. Importando bibliotecas\n",
    "     1. Comando para importação de bibliotecas inteiras - **import + nome_biblioteca**\n",
    "     2. Comando para importação de uma parte específica de uma biblioteca - **from + nome_biblioteca + import + funcao** \n",
    "     3. Comando para importar mais partes de uma mesma biblioteca - **from + nome_biblioteca + import + funcao1 , funcao2 , funcao3 ...**\n",
    "     4. Além das bibliotecas que já são disponíveis para importação, é possível criar bibliotecas e até baixar bibliotecas já criadas\n",
    "2. Nomes de bibliotecas e um pouco de suas funcionalidades\n",
    "     1. Biblioteca de matemática com funcionalidades mais avançadas - **math**\n",
    "          1. Funcionalidades     \n",
    "               1. Arredondamento para cima - **ceil**\n",
    "               2. Arredondamento para baixo - **floor**\n",
    "               3. Truncar - **trunc**\n",
    "               4. Potêncializar - **pow**\n",
    "               5. Raiz quadrada - **sqrt**\n",
    "               6. Fatorial - **factorial**"
   ]
  },
  {
   "cell_type": "code",
   "execution_count": 7,
   "metadata": {},
   "outputs": [
    {
     "name": "stdout",
     "output_type": "stream",
     "text": [
      "A raiz quadrada de 29 é igual a 5, quando truncada\n",
      "A raiz quadrada de 29 é igual a 6, quando arredondada para cima\n",
      "A raiz quadrada de 29 é igual a 5, quando arredondada para baixo\n",
      "A raiz quadrada de 29 é igual a 5.39, quando arredondada para cima com 2 dígitos após a virgula\n"
     ]
    }
   ],
   "source": [
    "import math\n",
    "\n",
    "num = int(input('Digite um número: '))\n",
    "raiz = math.sqrt(num)\n",
    "print(f'A raiz quadrada de {num} é igual a {math.trunc(raiz)}, quando truncada')\n",
    "print(f'A raiz quadrada de {num} é igual a {math.ceil(raiz)}, quando arredondada para cima')\n",
    "print(f'A raiz quadrada de {num} é igual a {math.floor(raiz)}, quando arredondada para baixo')\n",
    "print(f'A raiz quadrada de {num} é igual a {raiz:.2f}, quando arredondada para cima com 2 dígitos após a virgula')"
   ]
  },
  {
   "cell_type": "code",
   "execution_count": 9,
   "metadata": {},
   "outputs": [
    {
     "name": "stdout",
     "output_type": "stream",
     "text": [
      "A raiz quadrada de 29 é igual a 5, quando arredondada para baixo\n"
     ]
    }
   ],
   "source": [
    "#Como foi importado somente funcionalidades específicas da biblioteca math, não pe necessário ficar chamando a biblioteca na hora do uso.}\n",
    "from math import sqrt, floor\n",
    "\n",
    "num = int(input('Digite um número: '))\n",
    "raiz = sqrt(num) \n",
    "\n",
    "print(f'A raiz quadrada de {num} é igual a {floor(raiz)}, quando arredondada para baixo') "
   ]
  },
  {
   "cell_type": "code",
   "execution_count": 11,
   "metadata": {},
   "outputs": [
    {
     "name": "stdout",
     "output_type": "stream",
     "text": [
      "0.5123690274789146\n",
      "2\n"
     ]
    }
   ],
   "source": [
    "#Número random da classe randint gera números aleatórios inteiros, que podem ser de intervalos nominados ou não nominados\n",
    "#Número random da classe random gera números aleatórios entre 0 e 1\n",
    "import random\n",
    "\n",
    "num1 = random.random()\n",
    "num2 = random.randint(1, 10)\n",
    "print(num1)\n",
    "print(num2)"
   ]
  },
  {
   "cell_type": "code",
   "execution_count": 22,
   "metadata": {},
   "outputs": [
    {
     "name": "stdout",
     "output_type": "stream",
     "text": [
      "O número 0.8196709990432791 tem a parte inteira 0 e o número 2561561.5619681 tem a parte inteira 2561562\n"
     ]
    }
   ],
   "source": [
    "# Exercício #016 - Crie um programa que leia um npumero real qualquer pelo teclado e mostre na tela a sua porção inteira\n",
    "import random\n",
    "from math import trunc\n",
    "\n",
    "num1 = random.random()\n",
    "num2 = float(input('Digite um npumero não inteiro: '))\n",
    "\n",
    "print(f'O número {num1} tem a parte inteira {trunc(num1)} e o número {num2} tem a parte inteira {num2:.0f}')"
   ]
  },
  {
   "cell_type": "code",
   "execution_count": 25,
   "metadata": {},
   "outputs": [
    {
     "name": "stdout",
     "output_type": "stream",
     "text": [
      "Se o cateto oposto for 25.0 e o cateto adjacente for 13.0 a hipotenuza será 28.178005607210743 (utilizando calculo basico, sem importar bibliotecas), ou 28.178005607210743 (utilizando a importação de biblioteca math.hypot)\n"
     ]
    }
   ],
   "source": [
    "# Exercício #017 - Faça um programa que leia o comprimeito do cateto adjacente de um triângulo, calcule e mostre o comprimento da hipotenusa.\n",
    "import math\n",
    "\n",
    "cat1 = float(input('Digite o comprimento do cateto oposto de um triângulo retangulo: '))\n",
    "cat2 = float(input('Digite o comprimento do cateto adjacente de um triângulo retangulo: '))\n",
    "\n",
    "hip = (cat1**2 + cat2**2)**(1/2)\n",
    "hip2 = math.hypot(cat1, cat2)\n",
    "\n",
    "print(f'Se o cateto oposto for {cat1} e o cateto adjacente for {cat2} a hipotenuza será {hip} (utilizando calculo basico, sem importar bibliotecas), ou {hip2} (utilizando a importação de biblioteca math.hypot)')\n"
   ]
  },
  {
   "cell_type": "code",
   "execution_count": 35,
   "metadata": {},
   "outputs": [
    {
     "name": "stdout",
     "output_type": "stream",
     "text": [
      "O angulo de 30.0° tem um seno de 0.49999999999999994, um cosseno de 0.8660254037844387 e uma tangente de 0.5773502691896257\n"
     ]
    }
   ],
   "source": [
    "# Exercício #018 - Faça um programa que leia um ãngulo qualquer e mostre na tela o valor do seno, cosseno e tangente desse ãngulo.\n",
    "import math\n",
    "\n",
    "ang = float(input('Digite um valor para um angulo qualquer: '))\n",
    "angulo = math.radians(ang)\n",
    "sen = math.sin(angulo)\n",
    "cos = math.cos(angulo)\n",
    "tan = math.tan(angulo)\n",
    "\n",
    "\n",
    "print(f'O angulo de {ang}° tem um seno de {sen}, um cosseno de {cos} e uma tangente de {tan}')"
   ]
  },
  {
   "cell_type": "code",
   "execution_count": 62,
   "metadata": {},
   "outputs": [
    {
     "ename": "TypeError",
     "evalue": "'method' object is not subscriptable",
     "output_type": "error",
     "traceback": [
      "\u001b[0;31m---------------------------------------------------------------------------\u001b[0m",
      "\u001b[0;31mTypeError\u001b[0m                                 Traceback (most recent call last)",
      "Cell \u001b[0;32mIn[62], line 6\u001b[0m\n\u001b[1;32m      2\u001b[0m \u001b[39mimport\u001b[39;00m \u001b[39mrandom\u001b[39;00m\n\u001b[1;32m      4\u001b[0m \u001b[39mlist\u001b[39m\n\u001b[0;32m----> 6\u001b[0m sorteio \u001b[39m=\u001b[39m \u001b[39mstr\u001b[39m(random\u001b[39m.\u001b[39;49mseed[\u001b[39m'\u001b[39;49m\u001b[39mAna\u001b[39;49m\u001b[39m'\u001b[39;49m, \u001b[39m'\u001b[39;49m\u001b[39mCaio\u001b[39;49m\u001b[39m'\u001b[39;49m, \u001b[39m'\u001b[39;49m\u001b[39mMario\u001b[39;49m\u001b[39m'\u001b[39;49m, \u001b[39m'\u001b[39;49m\u001b[39mElena\u001b[39;49m\u001b[39m'\u001b[39;49m])\n\u001b[1;32m      7\u001b[0m \u001b[39mprint\u001b[39m(\u001b[39mf\u001b[39m\u001b[39m'\u001b[39m\u001b[39mO aluno sorteado a apagar o quadro foi: \u001b[39m\u001b[39m{\u001b[39;00msorteio\u001b[39m}\u001b[39;00m\u001b[39m'\u001b[39m)\n",
      "\u001b[0;31mTypeError\u001b[0m: 'method' object is not subscriptable"
     ]
    }
   ],
   "source": [
    "# Exercícios #019 - Um professor quer sortear um de seus 40 alunos para apagar o quadro. Faça um programa que ajude ele, lendo o nome deles e escrevendo um nome do escolhido.\n",
    "import random\n",
    "\n",
    "list\n",
    "    \n",
    "sorteio = str(random['Ana', 'Caio', 'Mario', 'Elena'])\n",
    "print(f'O aluno sorteado a apagar o quadro foi: {sorteio}')\n"
   ]
  },
  {
   "cell_type": "code",
   "execution_count": null,
   "metadata": {},
   "outputs": [],
   "source": [
    "# Exercício #020 - O mesmo professor do desafio anterior quer sortear a ordem dem apresentação de trabalhos dos alunos. Faça um programa que leia o nome dos quatro alunos e mostre a ordem sorteada.\n",
    "import random\n",
    "\n",
    "list\n",
    "    \n",
    "sorteio = str(random['Ana', 'Caio', 'Mario', 'Elena'])\n",
    "print(f'O aluno sorteado a apagar o quadro foi: {sorteio}')\n",
    "\n"
   ]
  },
  {
   "cell_type": "code",
   "execution_count": null,
   "metadata": {},
   "outputs": [],
   "source": [
    "#Exercício #021 - Faça um rpograma em Python que abra e reproduza o áudio de um arquivo MP3.\n",
    "import "
   ]
  }
 ],
 "metadata": {
  "kernelspec": {
   "display_name": "Python 3",
   "language": "python",
   "name": "python3"
  },
  "language_info": {
   "codemirror_mode": {
    "name": "ipython",
    "version": 3
   },
   "file_extension": ".py",
   "mimetype": "text/x-python",
   "name": "python",
   "nbconvert_exporter": "python",
   "pygments_lexer": "ipython3",
   "version": "3.10.6"
  },
  "orig_nbformat": 4,
  "vscode": {
   "interpreter": {
    "hash": "916dbcbb3f70747c44a77c7bcd40155683ae19c65e1c03b4aa3499c5328201f1"
   }
  }
 },
 "nbformat": 4,
 "nbformat_minor": 2
}
