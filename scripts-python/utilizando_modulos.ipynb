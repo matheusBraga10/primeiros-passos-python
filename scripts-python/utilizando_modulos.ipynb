{
 "cells": [
  {
   "attachments": {},
   "cell_type": "markdown",
   "metadata": {},
   "source": [
    "# Exercícios e explicações de conteúdo **Python**\n",
    "     Extendendo a linguagem e colocando funcionalidades extras\n",
    "---\n",
    "## Utilizando Módulos\n",
    "1. Importando bibliotecas\n",
    "     1. Comando para importação de bibliotecas inteiras - **import + nome_biblioteca**\n",
    "     2. Comando para importação de uma parte específica de uma biblioteca - **from + nome_biblioteca + import + funcao** \n",
    "     3. Comando para importar mais partes de uma mesma biblioteca - **from + nome_biblioteca + import + funcao1 , funcao2 , funcao3 ...**\n",
    "     4. Além das bibliotecas que já são disponíveis para importação, é possível criar bibliotecas e até baixar bibliotecas já criadas\n",
    "2. Nomes de bibliotecas e um pouco de suas funcionalidades\n",
    "     1. Biblioteca de matemática com funcionalidades mais avançadas - **math**\n",
    "          1. Funcionalidades     \n",
    "               1. Arredondamento para cima - **ceil**\n",
    "               2. Arredondamento para baixo - **floor**\n",
    "               3. Truncar - **trunc**\n",
    "               4. Potêncializar - **pow**\n",
    "               5. Raiz quadrada - **sqrt**\n",
    "               6. Fatorial - **factorial**"
   ]
  },
  {
   "cell_type": "code",
   "execution_count": 7,
   "metadata": {},
   "outputs": [
    {
     "name": "stdout",
     "output_type": "stream",
     "text": [
      "A raiz quadrada de 29 é igual a 5, quando truncada\n",
      "A raiz quadrada de 29 é igual a 6, quando arredondada para cima\n",
      "A raiz quadrada de 29 é igual a 5, quando arredondada para baixo\n",
      "A raiz quadrada de 29 é igual a 5.39, quando arredondada para cima com 2 dígitos após a virgula\n"
     ]
    }
   ],
   "source": [
    "import math\n",
    "\n",
    "num = int(input('Digite um número: '))\n",
    "raiz = math.sqrt(num)\n",
    "print(f'A raiz quadrada de {num} é igual a {math.trunc(raiz)}, quando truncada')\n",
    "print(f'A raiz quadrada de {num} é igual a {math.ceil(raiz)}, quando arredondada para cima')\n",
    "print(f'A raiz quadrada de {num} é igual a {math.floor(raiz)}, quando arredondada para baixo')\n",
    "print(f'A raiz quadrada de {num} é igual a {raiz:.2f}, quando arredondada para cima com 2 dígitos após a virgula')"
   ]
  },
  {
   "cell_type": "code",
   "execution_count": 9,
   "metadata": {},
   "outputs": [
    {
     "name": "stdout",
     "output_type": "stream",
     "text": [
      "A raiz quadrada de 29 é igual a 5, quando arredondada para baixo\n"
     ]
    }
   ],
   "source": [
    "#Como foi importado somente funcionalidades específicas da biblioteca math, não pe necessário ficar chamando a biblioteca na hora do uso.}\n",
    "from math import sqrt, floor\n",
    "\n",
    "num = int(input('Digite um número: '))\n",
    "raiz = sqrt(num) \n",
    "\n",
    "print(f'A raiz quadrada de {num} é igual a {floor(raiz)}, quando arredondada para baixo') "
   ]
  },
  {
   "cell_type": "code",
   "execution_count": 11,
   "metadata": {},
   "outputs": [
    {
     "name": "stdout",
     "output_type": "stream",
     "text": [
      "0.5123690274789146\n",
      "2\n"
     ]
    }
   ],
   "source": [
    "#Número random da classe randint gera números aleatórios inteiros, que podem ser de intervalos nominados ou não nominados\n",
    "#Número random da classe random gera números aleatórios entre 0 e 1\n",
    "import random\n",
    "\n",
    "num1 = random.random()\n",
    "num2 = random.randint(1, 10)\n",
    "print(num1)\n",
    "print(num2)"
   ]
  },
  {
   "cell_type": "code",
   "execution_count": 7,
   "metadata": {},
   "outputs": [
    {
     "name": "stdout",
     "output_type": "stream",
     "text": [
      "O número 0.36731601114809176 tem a parte inteira 0 e o número 9.123 tem a parte inteira 9\n"
     ]
    }
   ],
   "source": [
    "# Exercício #016 - Crie um programa que leia um npumero real qualquer pelo teclado e mostre na tela a sua porção inteira\n",
    "import random\n",
    "from math import trunc\n",
    "\n",
    "num1 = random.random()\n",
    "num2 = float(input('Digite um npumero não inteiro: '))\n",
    "\n",
    "print(f'O número {num1} tem a parte inteira {trunc(num1)} e o número {num2} tem a parte inteira {num2:.0f}')"
   ]
  },
  {
   "cell_type": "code",
   "execution_count": 3,
   "metadata": {},
   "outputs": [
    {
     "name": "stdout",
     "output_type": "stream",
     "text": [
      "Se o cateto oposto for 2.0 e o cateto adjacente for 2.5 a hipotenuza será 3.20 (utilizando calculo basico, sem importar bibliotecas), ou 3.20 (utilizando a importação de biblioteca math.hypot)\n"
     ]
    }
   ],
   "source": [
    "# Exercício #017 - Faça um programa que leia o comprimeito do cateto adjacente de um triângulo, calcule e mostre o comprimento da hipotenusa.\n",
    "import math\n",
    "\n",
    "cat1 = float(input('Digite o comprimento do cateto oposto de um triângulo retangulo: '))\n",
    "cat2 = float(input('Digite o comprimento do cateto adjacente de um triângulo retangulo: '))\n",
    "\n",
    "hip = (cat1**2 + cat2**2)**(1/2)\n",
    "hip2 = math.hypot(cat1, cat2)\n",
    "\n",
    "print(f'Se o cateto oposto for {cat1} e o cateto adjacente for {cat2} a hipotenuza será {hip:.2f} (utilizando calculo basico, sem importar bibliotecas), ou {hip2:.2f} (utilizando a importação de biblioteca math.hypot)')\n"
   ]
  },
  {
   "cell_type": "code",
   "execution_count": 5,
   "metadata": {},
   "outputs": [
    {
     "name": "stdout",
     "output_type": "stream",
     "text": [
      "O angulo de 30.00° tem um seno de 0.50, um cosseno de 0.87 e uma tangente de 0.58\n"
     ]
    }
   ],
   "source": [
    "# Exercício #018 - Faça um programa que leia um ãngulo qualquer e mostre na tela o valor do seno, cosseno e tangente desse ãngulo.\n",
    "import math\n",
    "\n",
    "ang = float(input('Digite um valor para um angulo qualquer: '))\n",
    "angulo = math.radians(ang)\n",
    "sen = math.sin(angulo)\n",
    "cos = math.cos(angulo)\n",
    "tan = math.tan(angulo)\n",
    "\n",
    "\n",
    "print(f'O angulo de {ang:.2f}° tem um seno de {sen:.2f}, um cosseno de {cos:.2f} e uma tangente de {tan:.2f}')"
   ]
  },
  {
   "cell_type": "code",
   "execution_count": 7,
   "metadata": {},
   "outputs": [
    {
     "name": "stdout",
     "output_type": "stream",
     "text": [
      "O aluno sorteado a apagar o quadro foi: Maria\n"
     ]
    }
   ],
   "source": [
    "# Exercícios #019 - Um professor quer sortear um de seus 4 alunos para apagar o quadro. Faça um programa que ajude ele, lendo o nome deles e escrevendo um nome do escolhido.\n",
    "import random\n",
    "\n",
    "n1 = input('Digite o nome do 1o aluno: ')\n",
    "n2 = input('Digite o nome do 2o aluno: ')\n",
    "n3 = input('Digite o nome do 3o aluno: ')\n",
    "n4 = input('Digite o nome do 4o aluno: ')\n",
    "\n",
    "lista = [n1, n2, n3, n4]\n",
    "\n",
    "escolhido = random.choice(lista)\n",
    "'''random.choice sorteia 1 elemento da lista'''\n",
    "\n",
    "print(f'O aluno sorteado a apagar o quadro foi: {escolhido}')"
   ]
  },
  {
   "cell_type": "code",
   "execution_count": 2,
   "metadata": {},
   "outputs": [
    {
     "name": "stdout",
     "output_type": "stream",
     "text": [
      "O aluno sorteado a apagar o quadro foi: ['Matheus', 'Maria', 'Ana', 'João']\n"
     ]
    }
   ],
   "source": [
    "# Exercício #020 - O mesmo professor do desafio anterior quer sortear a ordem dem apresentação de trabalhos dos alunos. Faça um programa que leia o nome dos quatro alunos e mostre a ordem sorteada.\n",
    "from random import shuffle\n",
    "\n",
    "lista = ['Ana', 'João', 'Matheus', 'Maria']\n",
    "shuffle(lista)    \n",
    "'''Neste caso, como iremos somente embaralhar a lista, usaremos o modulo random.shuffle\n",
    "Não tem necessidade de criar uma variável para o random, bastando assim, chamar a lista inteira para print\n",
    "após tudo ser embaralhado pela função.'''\n",
    "\n",
    "print(f'O aluno sorteado a apagar o quadro foi: {lista}')"
   ]
  },
  {
   "cell_type": "code",
   "execution_count": 3,
   "metadata": {},
   "outputs": [
    {
     "name": "stdout",
     "output_type": "stream",
     "text": [
      "pygame 2.1.2 (SDL 2.0.16, Python 3.10.6)\n",
      "Hello from the pygame community. https://www.pygame.org/contribute.html\n"
     ]
    },
    {
     "name": "stderr",
     "output_type": "stream",
     "text": [
      "[src/libmpg123/id3.c:process_comment():584] error: No comment text / valid description?\n"
     ]
    },
    {
     "data": {
      "text/plain": [
       "<Event(4352-AudioDeviceAdded {'which': 0, 'iscapture': 0})>"
      ]
     },
     "execution_count": 3,
     "metadata": {},
     "output_type": "execute_result"
    }
   ],
   "source": [
    "#Exercício #021 - Faça um rpograma em Python que abra e reproduza o áudio de um arquivo MP3.\n",
    "import pygame\n",
    "pygame.init()\n",
    "pygame.mixer.music.load('ex01.mp3')\n",
    "pygame.mixer.music.play()\n",
    "pygame.event.wait()\n"
   ]
  },
  {
   "cell_type": "code",
   "execution_count": null,
   "metadata": {},
   "outputs": [],
   "source": []
  }
 ],
 "metadata": {
  "kernelspec": {
   "display_name": "Python 3",
   "language": "python",
   "name": "python3"
  },
  "language_info": {
   "codemirror_mode": {
    "name": "ipython",
    "version": 3
   },
   "file_extension": ".py",
   "mimetype": "text/x-python",
   "name": "python",
   "nbconvert_exporter": "python",
   "pygments_lexer": "ipython3",
   "version": "3.10.6 (main, Nov 14 2022, 16:10:14) [GCC 11.3.0]"
  },
  "orig_nbformat": 4,
  "vscode": {
   "interpreter": {
    "hash": "916dbcbb3f70747c44a77c7bcd40155683ae19c65e1c03b4aa3499c5328201f1"
   }
  }
 },
 "nbformat": 4,
 "nbformat_minor": 2
}
