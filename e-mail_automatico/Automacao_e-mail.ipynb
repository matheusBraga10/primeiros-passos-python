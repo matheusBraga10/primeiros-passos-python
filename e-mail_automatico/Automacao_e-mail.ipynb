{
 "cells": [
  {
   "attachments": {},
   "cell_type": "markdown",
   "metadata": {},
   "source": [
    "**Automação de envio de e-mails - Python**\n",
    "\n"
   ]
  },
  {
   "cell_type": "code",
   "execution_count": 1,
   "metadata": {},
   "outputs": [
    {
     "ename": "ModuleNotFoundError",
     "evalue": "No module named 'win32com'",
     "output_type": "error",
     "traceback": [
      "\u001b[0;31m---------------------------------------------------------------------------\u001b[0m",
      "\u001b[0;31mModuleNotFoundError\u001b[0m                       Traceback (most recent call last)",
      "Cell \u001b[0;32mIn[1], line 1\u001b[0m\n\u001b[0;32m----> 1\u001b[0m \u001b[39mimport\u001b[39;00m \u001b[39mwin32com\u001b[39;00m\u001b[39m.\u001b[39;00m\u001b[39mclient\u001b[39;00m \u001b[39mas\u001b[39;00m \u001b[39mwin32\u001b[39;00m\n\u001b[1;32m      3\u001b[0m \u001b[39m#Criando integração com o e-mail\u001b[39;00m\n\u001b[1;32m      4\u001b[0m outlook \u001b[39m=\u001b[39m win32\u001b[39m.\u001b[39mDispatch(\u001b[39m'\u001b[39m\u001b[39moutllok.application\u001b[39m\u001b[39m'\u001b[39m)\n",
      "\u001b[0;31mModuleNotFoundError\u001b[0m: No module named 'win32com'"
     ]
    }
   ],
   "source": [
    "import win32com.client as win32\n",
    "\n",
    "#Criando integração com o e-mail\n",
    "outlook = win32.Dispatch('outllok.application')\n",
    "\n",
    "#criar um e-mail\n",
    "email = outlook.CreateItem(0)\n",
    "\n",
    "\n",
    "faturamento = 1500\n",
    "quantidade_podutos = 10\n",
    "ticket_medio = faturamento/quantidade_podutos\n",
    "\n",
    "#configurar as informaçẽos do seu e-mail\n",
    "email.To = \"pythonimpressionador@gmail.com; pythonimpressionador+lira@gmail.com\" #'destino'\n",
    "email.Subject = 'E-mail automático do Python' #'assunto'\n",
    "email.HTMLBody = f'''\n",
    "<p>Olá Fulano, aqui é o Matheus</p>\n",
    "\n",
    "<p>O faturamento da loja foi de R$ {faturamento},00</p>\n",
    "<p>Vendemos {quantidade_podutos} produtos</p>\n",
    "<p>O ticket médio foi e R$ {ticket_medio},00</p>\n",
    "\n",
    "<p>Abraços,</p>\n",
    "<p>Matheus.</p>''' #'Corpo do E-mail'\n",
    "\n",
    "anexo1 = 'c://home/matheus/Documentos/MeusProjetos/...'\n",
    "email.Attachments.Add(anexo1)\n",
    "\n",
    "email.Send()\n",
    "print('E-mail enviado')\n"
   ]
  }
 ],
 "metadata": {
  "kernelspec": {
   "display_name": "Python 3",
   "language": "python",
   "name": "python3"
  },
  "language_info": {
   "codemirror_mode": {
    "name": "ipython",
    "version": 3
   },
   "file_extension": ".py",
   "mimetype": "text/x-python",
   "name": "python",
   "nbconvert_exporter": "python",
   "pygments_lexer": "ipython3",
   "version": "3.10.6"
  },
  "orig_nbformat": 4
 },
 "nbformat": 4,
 "nbformat_minor": 2
}
